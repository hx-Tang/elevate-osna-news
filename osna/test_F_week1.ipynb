{
 "cells": [
  {
   "cell_type": "code",
   "execution_count": 81,
   "metadata": {},
   "outputs": [
    {
     "name": "stdout",
     "output_type": "stream",
     "text": [
      "Established Twitter connection.\n"
     ]
    }
   ],
   "source": [
    "import json\n",
    "from TwitterAPI import TwitterAPI\n",
    "\n",
    "def get_twitter(credential_file):\n",
    "    \"\"\" Read the credential_file and construct an instance of TwitterAPI.\n",
    "    Args:\n",
    "      credential_file ... A JSON file with twitter tokens\n",
    "    Returns:\n",
    "      An instance of TwitterAPI.\n",
    "    \"\"\"\n",
    "    tokens = json.loads(open(credential_file).read())\n",
    "    twitter = TwitterAPI(\n",
    "        tokens['consumer_key'],\n",
    "        tokens['consumer_secret'],\n",
    "        tokens['access_token'],\n",
    "        tokens['token_secret']        \n",
    "        )\n",
    "    return twitter\n",
    "\n",
    "twitter = get_twitter('/Users/mike/elevate-osna-news/credentials.json')\n",
    "print('Established Twitter connection.')"
   ]
  },
  {
   "cell_type": "code",
   "execution_count": 82,
   "metadata": {},
   "outputs": [],
   "source": [
    "request = twitter.request('search/tweets', {'q': 'Chicago'})"
   ]
  },
  {
   "cell_type": "code",
   "execution_count": 83,
   "metadata": {},
   "outputs": [
    {
     "data": {
      "text/plain": [
       "TwitterAPI.TwitterAPI.TwitterResponse"
      ]
     },
     "execution_count": 83,
     "metadata": {},
     "output_type": "execute_result"
    }
   ],
   "source": [
    "type(request)"
   ]
  },
  {
   "cell_type": "code",
   "execution_count": 84,
   "metadata": {},
   "outputs": [
    {
     "name": "stdout",
     "output_type": "stream",
     "text": [
      "Help on class TwitterResponse in module TwitterAPI.TwitterAPI:\n",
      "\n",
      "class TwitterResponse(builtins.object)\n",
      " |  TwitterResponse(response, stream)\n",
      " |  \n",
      " |  Response from either a REST API or Streaming API resource call.\n",
      " |  \n",
      " |  :param response: The requests.Response object returned by the API call\n",
      " |  :param stream: Boolean connection type (True if a streaming connection)\n",
      " |  \n",
      " |  Methods defined here:\n",
      " |  \n",
      " |  __init__(self, response, stream)\n",
      " |      Initialize self.  See help(type(self)) for accurate signature.\n",
      " |  \n",
      " |  __iter__(self)\n",
      " |      Get API dependent iterator.\n",
      " |      \n",
      " |      :returns: Iterator for tweets or other message objects in response.\n",
      " |      :raises: TwitterConnectionError, TwitterRequestError\n",
      " |  \n",
      " |  close(self)\n",
      " |      Disconnect stream (blocks with Python 3).\n",
      " |  \n",
      " |  get_iterator(self)\n",
      " |      Get API dependent iterator.\n",
      " |      \n",
      " |      :returns: Iterator for tweets or other message objects in response.\n",
      " |      :raises: TwitterConnectionError, TwitterRequestError\n",
      " |  \n",
      " |  get_quota(self)\n",
      " |      Quota information in the REST-only response header.\n",
      " |      \n",
      " |      :returns: Dictionary of 'remaining' (count), 'limit' (count), 'reset' (time)\n",
      " |  \n",
      " |  json(self, **kwargs)\n",
      " |      Get the response as a JSON object.\n",
      " |      \n",
      " |      :param \\*\\*kwargs: Optional arguments that ``json.loads`` takes.\n",
      " |      :returns: response as JSON object.\n",
      " |      :raises: ValueError\n",
      " |  \n",
      " |  ----------------------------------------------------------------------\n",
      " |  Data descriptors defined here:\n",
      " |  \n",
      " |  __dict__\n",
      " |      dictionary for instance variables (if defined)\n",
      " |  \n",
      " |  __weakref__\n",
      " |      list of weak references to the object (if defined)\n",
      " |  \n",
      " |  headers\n",
      " |      :returns: Dictionary of API response header contents.\n",
      " |  \n",
      " |  status_code\n",
      " |      :returns: HTTP response status code.\n",
      " |  \n",
      " |  text\n",
      " |      :returns: Raw API response text.\n",
      "\n"
     ]
    }
   ],
   "source": [
    "help(TwitterResponse)"
   ]
  },
  {
   "cell_type": "code",
   "execution_count": 85,
   "metadata": {},
   "outputs": [
    {
     "data": {
      "text/plain": [
       "10000000000.0"
      ]
     },
     "execution_count": 85,
     "metadata": {},
     "output_type": "execute_result"
    }
   ],
   "source": [
    "1e10"
   ]
  },
  {
   "cell_type": "code",
   "execution_count": 86,
   "metadata": {},
   "outputs": [],
   "source": [
    "from TwitterAPI.TwitterAPI import TwitterResponse"
   ]
  },
  {
   "cell_type": "code",
   "execution_count": 87,
   "metadata": {
    "scrolled": true
   },
   "outputs": [
    {
     "name": "stdout",
     "output_type": "stream",
     "text": [
      "Help on function _get_tweets in module mytwitter:\n",
      "\n",
      "_get_tweets(self, identifier_field, identifier, limit=10000000000.0)\n",
      "\n"
     ]
    }
   ],
   "source": [
    "help(mytwitter.Twitter._get_tweets)"
   ]
  },
  {
   "cell_type": "code",
   "execution_count": 88,
   "metadata": {},
   "outputs": [
    {
     "name": "stdout",
     "output_type": "stream",
     "text": [
      "/Users/mike/elevate-osna-news/osna\r\n"
     ]
    }
   ],
   "source": [
    "!pwd"
   ]
  },
  {
   "cell_type": "code",
   "execution_count": 89,
   "metadata": {},
   "outputs": [],
   "source": [
    "import os\n",
    "module_path = os.path.abspath(os.path.join('/Users/mike/test/'))"
   ]
  },
  {
   "cell_type": "code",
   "execution_count": 90,
   "metadata": {},
   "outputs": [],
   "source": [
    "sys.path.append(module_path)"
   ]
  },
  {
   "cell_type": "code",
   "execution_count": 91,
   "metadata": {},
   "outputs": [
    {
     "data": {
      "text/plain": [
       "'/Users/mike/test'"
      ]
     },
     "execution_count": 91,
     "metadata": {},
     "output_type": "execute_result"
    }
   ],
   "source": [
    "module_path"
   ]
  },
  {
   "cell_type": "code",
   "execution_count": 92,
   "metadata": {},
   "outputs": [
    {
     "ename": "ModuleNotFoundError",
     "evalue": "No module named 'test.test'",
     "output_type": "error",
     "traceback": [
      "\u001b[0;31m---------------------------------------------------------------------------\u001b[0m",
      "\u001b[0;31mModuleNotFoundError\u001b[0m                       Traceback (most recent call last)",
      "\u001b[0;32m<ipython-input-92-76d6b87131a6>\u001b[0m in \u001b[0;36m<module>\u001b[0;34m\u001b[0m\n\u001b[0;32m----> 1\u001b[0;31m \u001b[0;32mimport\u001b[0m \u001b[0mtest\u001b[0m\u001b[0;34m.\u001b[0m\u001b[0mtest\u001b[0m\u001b[0;34m.\u001b[0m\u001b[0mTwitter\u001b[0m\u001b[0;34m\u001b[0m\u001b[0;34m\u001b[0m\u001b[0m\n\u001b[0m",
      "\u001b[0;31mModuleNotFoundError\u001b[0m: No module named 'test.test'"
     ]
    }
   ],
   "source": [
    "import test.test.Twitter "
   ]
  },
  {
   "cell_type": "code",
   "execution_count": 93,
   "metadata": {},
   "outputs": [
    {
     "name": "stdout",
     "output_type": "stream",
     "text": [
      "Help on function _get_tweets in module mytwitter:\n",
      "\n",
      "_get_tweets(self, identifier_field, identifier, limit=10000000000.0)\n",
      "\n"
     ]
    }
   ],
   "source": [
    "help(mytwitter.Twitter._get_tweets)\n"
   ]
  },
  {
   "cell_type": "code",
   "execution_count": 94,
   "metadata": {},
   "outputs": [
    {
     "name": "stdout",
     "output_type": "stream",
     "text": [
      "Help on function _get_tweets in module mytwitter:\n",
      "\n",
      "_get_tweets(self, identifier_field, identifier, limit=10000000000.0)\n",
      "\n"
     ]
    }
   ],
   "source": [
    "from mytwitter import Twitter\n",
    "help(Twitter._get_tweets)\n",
    "#_get_tweets(user_id,2995843178)"
   ]
  },
  {
   "cell_type": "code",
   "execution_count": 95,
   "metadata": {},
   "outputs": [
    {
     "name": "stderr",
     "output_type": "stream",
     "text": [
      "switching creds to HTZcbECngfsX7bFK8bUh7n40k\n",
      "Skipping bad user: {\"errors\":[{\"code\":89,\"message\":\"Invalid or expired token.\"}]}\n"
     ]
    },
    {
     "data": {
      "text/plain": [
       "[]"
      ]
     },
     "execution_count": 95,
     "metadata": {},
     "output_type": "execute_result"
    }
   ],
   "source": [
    "t = Twitter('/Users/mike/elevate-osna-news/credentials.json')\n",
    "t._get_tweets('user_id','2995843178')"
   ]
  },
  {
   "cell_type": "code",
   "execution_count": 96,
   "metadata": {},
   "outputs": [
    {
     "name": "stderr",
     "output_type": "stream",
     "text": [
      "Skipping bad user: {\"errors\":[{\"code\":89,\"message\":\"Invalid or expired token.\"}]}\n"
     ]
    }
   ],
   "source": [
    "tweets=t._get_tweets('user_id','2995843178',limit=200)"
   ]
  },
  {
   "cell_type": "code",
   "execution_count": 69,
   "metadata": {},
   "outputs": [
    {
     "data": {
      "text/plain": [
       "200"
      ]
     },
     "execution_count": 69,
     "metadata": {},
     "output_type": "execute_result"
    }
   ],
   "source": [
    "len(tweets)"
   ]
  },
  {
   "cell_type": "code",
   "execution_count": 70,
   "metadata": {},
   "outputs": [
    {
     "ename": "SyntaxError",
     "evalue": "invalid syntax (<ipython-input-70-883a100ff475>, line 55)",
     "output_type": "error",
     "traceback": [
      "\u001b[0;36m  File \u001b[0;32m\"<ipython-input-70-883a100ff475>\"\u001b[0;36m, line \u001b[0;32m55\u001b[0m\n\u001b[0;31m    Message Input\u001b[0m\n\u001b[0m                ^\u001b[0m\n\u001b[0;31mSyntaxError\u001b[0m\u001b[0;31m:\u001b[0m invalid syntax\n"
     ]
    }
   ],
   "source": [
    "from flask import render_template, flash, redirect, session\n",
    "from . import app\n",
    "from .forms import MyForm\n",
    "#from ..mytwitter import Twitter\n",
    "#from ..u import get_twitter_data, N_TWEETS\n",
    "from .. import credentials_path\n",
    "import sys\n",
    "import json\n",
    "from TwitterAPI import TwitterAPI\n",
    "\n",
    "#twapi = Twitter(credentials_path)\n",
    "\n",
    "@app.route('/', methods=['GET', 'POST'])\n",
    "@app.route('/index', methods=['GET', 'POST'])\n",
    "def index():\n",
    "    \n",
    "    form = MyForm()\n",
    "    result = None\n",
    "    \n",
    "    if form.validate_on_submit():\n",
    "        chk,tweets=getTwt(form.input_field.data)\n",
    "        if chk==0:\n",
    "            input_field=tweets\n",
    "            flash(input_field)\n",
    "            return render_template('myform.html', title='', form=form)\n",
    "        else:\n",
    "            info=str(len(tweets))+\" tweet(s) detected for \"+form.input_field.data+\" in total :\"\n",
    "            flash(info)\n",
    "            for each in tweets:\n",
    "                input_field=each\n",
    "                flash(input_field)\n",
    "    return render_template('myform.html', title='', form=form)\n",
    "    \n",
    "def getTwt(user_name):\n",
    "    \"\"\"\n",
    "   Establing connection\n",
    "    \"\"\"\n",
    "    path=\"C:\\\\Users\\lenovo\\desktop\\credentials.json\"\n",
    "    file=json.loads(open(path).read())\n",
    "    twt=TwitterAPI(file[\"consumer_key\"],file[\"consumer_secret\"],file[\"access_token\"],file[\"token_secret\"])\n",
    "    \n",
    "    \"\"\"\n",
    "   Accquring user's info\n",
    "    \"\"\"\n",
    "    req=twt.request('statuses/user_timeline',{'screen_name':user_name,'count':300})\n",
    "    if req.status_code==200:\n",
    "        ret=[]\n",
    "        for each in req:\n",
    "            ret.append(each['text'])\n",
    "        return 1,ret\n",
    "    else:\n",
    "        return 0,\"NO SUCH USER!\"\n",
    "    #except TwitterAPI.TwitterError.TwitterRequestError:\n",
    "    #    return \"NO SUCH USER!\"\n",
    "Message Input\n",
    "\n",
    "\n",
    "Message Ruiqing Fan"
   ]
  },
  {
   "cell_type": "code",
   "execution_count": null,
   "metadata": {},
   "outputs": [],
   "source": []
  }
 ],
 "metadata": {
  "kernelspec": {
   "display_name": "Python 3",
   "language": "python",
   "name": "python3"
  },
  "language_info": {
   "codemirror_mode": {
    "name": "ipython",
    "version": 3
   },
   "file_extension": ".py",
   "mimetype": "text/x-python",
   "name": "python",
   "nbconvert_exporter": "python",
   "pygments_lexer": "ipython3",
   "version": "3.7.3"
  }
 },
 "nbformat": 4,
 "nbformat_minor": 2
}
