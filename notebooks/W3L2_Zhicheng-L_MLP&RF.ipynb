{
 "cells": [
  {
   "cell_type": "code",
   "execution_count": 1,
   "metadata": {},
   "outputs": [
    {
     "name": "stderr",
     "output_type": "stream",
     "text": [
      "D:\\Anaconda\\lib\\site-packages\\sklearn\\ensemble\\weight_boosting.py:29: DeprecationWarning: numpy.core.umath_tests is an internal NumPy module and should not be imported. It will be removed in a future NumPy release.\n",
      "  from numpy.core.umath_tests import inner1d\n"
     ]
    }
   ],
   "source": [
    "import glob\n",
    "import json\n",
    "import pandas as pd\n",
    "import os\n",
    "import gzip\n",
    "import re\n",
    "from nltk.stem import WordNetLemmatizer\n",
    "from nltk import pos_tag\n",
    "from nltk.corpus import stopwords\n",
    "\n",
    "import numpy as np\n",
    "import pandas as pd\n",
    "from sklearn.feature_extraction import DictVectorizer\n",
    "from sklearn.feature_extraction.text import CountVectorizer, TfidfVectorizer\n",
    "\n",
    "from sklearn.neural_network import MLPClassifier\n",
    "from sklearn.ensemble import RandomForestClassifier\n",
    "#Calculate accuracy\n",
    "from sklearn.model_selection import KFold\n",
    "from sklearn.metrics import accuracy_score\n",
    "from sklearn.metrics import classification_report"
   ]
  },
  {
   "cell_type": "code",
   "execution_count": 2,
   "metadata": {},
   "outputs": [],
   "source": [
    "def read_data(directory):\n",
    "    dfs = []\n",
    "    for label in ['real', 'fake']:\n",
    "        for file in glob.glob(directory + os.path.sep + label + os.path.sep + '*gz'):\n",
    "            print('reading %s' % file)\n",
    "            df = pd.DataFrame((json.loads(line) for line in gzip.open(file)))\n",
    "            df['label'] = label\n",
    "            dfs.append(df)\n",
    "    df=pd.concat(dfs)[['publish_date', 'source', 'text', 'title', 'tweets', 'label']]\n",
    "    list_text = [i for i in list(df.text) if i != '']\n",
    "    return df[df.text.isin(list_text)]"
   ]
  },
  {
   "cell_type": "code",
   "execution_count": 3,
   "metadata": {},
   "outputs": [
    {
     "name": "stdout",
     "output_type": "stream",
     "text": [
      "reading C:\\Users\\lenovo\\Desktop\\IIT\\training_data_2\\real\\real.json.gz\n",
      "reading C:\\Users\\lenovo\\Desktop\\IIT\\training_data_2\\fake\\fake.json.gz\n"
     ]
    }
   ],
   "source": [
    "directory = r'C:\\Users\\lenovo\\Desktop\\IIT\\training_data_2'\n",
    "df = read_data(directory)"
   ]
  },
  {
   "cell_type": "code",
   "execution_count": 4,
   "metadata": {},
   "outputs": [],
   "source": [
    "def get_text(list):\n",
    "    stopword=set(stopwords.words('english'))\n",
    "    list_new=[]\n",
    "    for l in list:\n",
    "        l=re.sub(r\"[^\\w']\",' ',l).lower()\n",
    "        l1=[tokennizer(w) for w in l.split() if len(tokennizer(w))>2]\n",
    "        l=' '.join(l1)\n",
    "        l1=[tokennizer(w) for w in l.split() if len(tokennizer(w))>2 and tokennizer(w) not in stopword]\n",
    "        l=' '.join(lemmatize(l1))\n",
    "        list_new.append(l)\n",
    "    return list_new\n",
    "\n",
    "def tokennizer(s):\n",
    "    s = re.sub(r'http\\S+', '', s)\n",
    "    s = re.sub(r'[0-9_\\s]+', '', s)\n",
    "    s = re.sub(r\"[^'\\w]+\", '', s)\n",
    "\n",
    "    s = re.compile(r\"(?<=[a-zA-Z])'re\").sub(' are', s)\n",
    "    s = re.compile(r\"(?<=[a-zA-Z])'m\").sub(' am', s)\n",
    "    s = re.compile(r\"(?<=[a-zA-Z])'ve\").sub(' have', s)\n",
    "    s = re.compile(r\"(it|he|she|that|this|there|here|what|where|when|who|why|which)('s)\").sub(r\"\\1 is\", s)\n",
    "    s = re.sub(r\"'s\", \"\", s)\n",
    "    s = re.sub(r\"can't\", 'can not', s)\n",
    "    s = re.compile(r\"(?<=[a-zA-Z])n't\").sub(' not', s)\n",
    "    s = re.compile(r\"(?<=[a-zA-Z])'ll\").sub(' will', s)\n",
    "    s = re.compile(r\"(?<=[a-zA-Z])'d\").sub(' would', s)\n",
    "    return s\n",
    "def lemmatize(l):\n",
    "    wnl = WordNetLemmatizer()\n",
    "    for word, tag in pos_tag(l):\n",
    "        if tag.startswith('NN'):\n",
    "            yield wnl.lemmatize(word, pos='n')\n",
    "        elif tag.startswith('VB'):\n",
    "            yield wnl.lemmatize(word, pos='v')\n",
    "        elif tag.startswith('JJ'):\n",
    "            yield wnl.lemmatize(word, pos='a')\n",
    "        elif tag.startswith('R'):\n",
    "            yield wnl.lemmatize(word, pos='r')\n",
    "        else:\n",
    "            yield word"
   ]
  },
  {
   "cell_type": "code",
   "execution_count": 5,
   "metadata": {},
   "outputs": [],
   "source": [
    "text = get_text(list(df.text))\n",
    "vec1 = TfidfVectorizer(min_df=2, max_df=1., ngram_range=(1, 1),stop_words= 'english')\n",
    "X = vec1.fit_transform(text)\n",
    "y = np.array(df.label)\n"
   ]
  },
  {
   "cell_type": "code",
   "execution_count": 7,
   "metadata": {},
   "outputs": [
    {
     "name": "stdout",
     "output_type": "stream",
     "text": [
      "MLP----hidden_layer_sizes---\n"
     ]
    },
    {
     "name": "stderr",
     "output_type": "stream",
     "text": [
      "D:\\Anaconda\\lib\\site-packages\\sklearn\\neural_network\\multilayer_perceptron.py:564: ConvergenceWarning: Stochastic Optimizer: Maximum iterations (200) reached and the optimization hasn't converged yet.\n",
      "  % self.max_iter, ConvergenceWarning)\n"
     ]
    },
    {
     "data": {
      "text/html": [
       "<div>\n",
       "<style scoped>\n",
       "    .dataframe tbody tr th:only-of-type {\n",
       "        vertical-align: middle;\n",
       "    }\n",
       "\n",
       "    .dataframe tbody tr th {\n",
       "        vertical-align: top;\n",
       "    }\n",
       "\n",
       "    .dataframe thead th {\n",
       "        text-align: right;\n",
       "    }\n",
       "</style>\n",
       "<table border=\"1\" class=\"dataframe\">\n",
       "  <thead>\n",
       "    <tr style=\"text-align: right;\">\n",
       "      <th></th>\n",
       "      <th>hidden_layer_sizes</th>\n",
       "      <th>Accuracy</th>\n",
       "      <th>std</th>\n",
       "    </tr>\n",
       "  </thead>\n",
       "  <tbody>\n",
       "    <tr>\n",
       "      <th>1</th>\n",
       "      <td>10.0</td>\n",
       "      <td>0.874826</td>\n",
       "      <td>0.011283</td>\n",
       "    </tr>\n",
       "    <tr>\n",
       "      <th>2</th>\n",
       "      <td>50.0</td>\n",
       "      <td>0.876318</td>\n",
       "      <td>0.020331</td>\n",
       "    </tr>\n",
       "    <tr>\n",
       "      <th>3</th>\n",
       "      <td>100.0</td>\n",
       "      <td>0.874847</td>\n",
       "      <td>0.019561</td>\n",
       "    </tr>\n",
       "  </tbody>\n",
       "</table>\n",
       "</div>"
      ],
      "text/plain": [
       "   hidden_layer_sizes  Accuracy       std\n",
       "1                10.0  0.874826  0.011283\n",
       "2                50.0  0.876318  0.020331\n",
       "3               100.0  0.874847  0.019561"
      ]
     },
     "execution_count": 7,
     "metadata": {},
     "output_type": "execute_result"
    }
   ],
   "source": [
    "print('MLP----hidden_layer_sizes---')\n",
    "accdf = pd.DataFrame(np.random.randn(3, 3), index=['1', '2', '3'],columns=['hidden_layer_sizes', 'Accuracy','std'])\n",
    "for i,hidden_layer_sizes in zip([0,1,2],[10,50,100,200]):\n",
    "    MP = MLPClassifier(hidden_layer_sizes = (hidden_layer_sizes,))\n",
    "    Y = y\n",
    "    kf = KFold(n_splits=5, shuffle=True, random_state=42)\n",
    "    accuracies = []\n",
    "    for train, test in kf.split(X):\n",
    "        MP.fit(X[train], Y[train])\n",
    "        pred = MP.predict(X[test])\n",
    "        accuracies.append(accuracy_score(Y[test], pred))\n",
    "    mean_acc = np.mean(accuracies)\n",
    "    std = np.std(accuracies)\n",
    "    accdf['hidden_layer_sizes'][i] = hidden_layer_sizes\n",
    "    accdf['Accuracy'][i] = mean_acc\n",
    "    accdf['std'][i] = std\n",
    "accdf"
   ]
  },
  {
   "cell_type": "code",
   "execution_count": 8,
   "metadata": {},
   "outputs": [
    {
     "name": "stdout",
     "output_type": "stream",
     "text": [
      "MLP----alpha---\n"
     ]
    },
    {
     "data": {
      "text/html": [
       "<div>\n",
       "<style scoped>\n",
       "    .dataframe tbody tr th:only-of-type {\n",
       "        vertical-align: middle;\n",
       "    }\n",
       "\n",
       "    .dataframe tbody tr th {\n",
       "        vertical-align: top;\n",
       "    }\n",
       "\n",
       "    .dataframe thead th {\n",
       "        text-align: right;\n",
       "    }\n",
       "</style>\n",
       "<table border=\"1\" class=\"dataframe\">\n",
       "  <thead>\n",
       "    <tr style=\"text-align: right;\">\n",
       "      <th></th>\n",
       "      <th>alpha</th>\n",
       "      <th>Accuracy</th>\n",
       "      <th>std</th>\n",
       "    </tr>\n",
       "  </thead>\n",
       "  <tbody>\n",
       "    <tr>\n",
       "      <th>1</th>\n",
       "      <td>0.00100</td>\n",
       "      <td>0.877778</td>\n",
       "      <td>0.010834</td>\n",
       "    </tr>\n",
       "    <tr>\n",
       "      <th>2</th>\n",
       "      <td>0.00010</td>\n",
       "      <td>0.867473</td>\n",
       "      <td>0.026211</td>\n",
       "    </tr>\n",
       "    <tr>\n",
       "      <th>3</th>\n",
       "      <td>0.00001</td>\n",
       "      <td>0.874837</td>\n",
       "      <td>0.018475</td>\n",
       "    </tr>\n",
       "  </tbody>\n",
       "</table>\n",
       "</div>"
      ],
      "text/plain": [
       "     alpha  Accuracy       std\n",
       "1  0.00100  0.877778  0.010834\n",
       "2  0.00010  0.867473  0.026211\n",
       "3  0.00001  0.874837  0.018475"
      ]
     },
     "execution_count": 8,
     "metadata": {},
     "output_type": "execute_result"
    }
   ],
   "source": [
    "print('MLP----alpha---')\n",
    "accdf = pd.DataFrame(np.random.randn(3, 3), index=['1', '2', '3'],columns=['alpha', 'Accuracy','std'])\n",
    "for i,alpha in zip([0,1,2],[.001,.0001,.00001]):\n",
    "    MP = MLPClassifier(alpha = alpha)\n",
    "    Y = y\n",
    "    kf = KFold(n_splits=5, shuffle=True, random_state=42)\n",
    "    accuracies = []\n",
    "    for train, test in kf.split(X):\n",
    "        MP.fit(X[train], Y[train])\n",
    "        pred = MP.predict(X[test])\n",
    "        accuracies.append(accuracy_score(Y[test], pred))\n",
    "    mean_acc = np.mean(accuracies)\n",
    "    std = np.std(accuracies)\n",
    "    accdf['alpha'][i] = alpha\n",
    "    accdf['Accuracy'][i] = mean_acc\n",
    "    accdf['std'][i] = std\n",
    "accdf"
   ]
  },
  {
   "cell_type": "code",
   "execution_count": 9,
   "metadata": {},
   "outputs": [
    {
     "name": "stdout",
     "output_type": "stream",
     "text": [
      "RandomForest----min_samples_leaf---\n"
     ]
    },
    {
     "data": {
      "text/html": [
       "<div>\n",
       "<style scoped>\n",
       "    .dataframe tbody tr th:only-of-type {\n",
       "        vertical-align: middle;\n",
       "    }\n",
       "\n",
       "    .dataframe tbody tr th {\n",
       "        vertical-align: top;\n",
       "    }\n",
       "\n",
       "    .dataframe thead th {\n",
       "        text-align: right;\n",
       "    }\n",
       "</style>\n",
       "<table border=\"1\" class=\"dataframe\">\n",
       "  <thead>\n",
       "    <tr style=\"text-align: right;\">\n",
       "      <th></th>\n",
       "      <th>min_samples_leaf</th>\n",
       "      <th>Accuracy</th>\n",
       "      <th>std</th>\n",
       "    </tr>\n",
       "  </thead>\n",
       "  <tbody>\n",
       "    <tr>\n",
       "      <th>1</th>\n",
       "      <td>1.0</td>\n",
       "      <td>0.773192</td>\n",
       "      <td>0.025669</td>\n",
       "    </tr>\n",
       "    <tr>\n",
       "      <th>2</th>\n",
       "      <td>3.0</td>\n",
       "      <td>0.811547</td>\n",
       "      <td>0.027817</td>\n",
       "    </tr>\n",
       "    <tr>\n",
       "      <th>3</th>\n",
       "      <td>5.0</td>\n",
       "      <td>0.793813</td>\n",
       "      <td>0.016778</td>\n",
       "    </tr>\n",
       "  </tbody>\n",
       "</table>\n",
       "</div>"
      ],
      "text/plain": [
       "   min_samples_leaf  Accuracy       std\n",
       "1               1.0  0.773192  0.025669\n",
       "2               3.0  0.811547  0.027817\n",
       "3               5.0  0.793813  0.016778"
      ]
     },
     "execution_count": 9,
     "metadata": {},
     "output_type": "execute_result"
    }
   ],
   "source": [
    "print('RandomForest----min_samples_leaf---')\n",
    "accdf = pd.DataFrame(np.random.randn(3, 3), index=['1', '2', '3'],columns=['min_samples_leaf', 'Accuracy','std'])\n",
    "\n",
    "for i,min_samples_leaf in zip([0,1,2],[1,3,5]):\n",
    "    RFC = RandomForestClassifier(min_samples_leaf = min_samples_leaf)\n",
    "\n",
    "    Y = y\n",
    "    kf = KFold(n_splits=5, shuffle=True, random_state=42)\n",
    "    accuracies = []\n",
    "    for train, test in kf.split(X):\n",
    "        RFC.fit(X[train], Y[train])\n",
    "        pred = RFC.predict(X[test])\n",
    "        accuracies.append(accuracy_score(Y[test], pred))\n",
    "    mean_acc = np.mean(accuracies)\n",
    "    std = np.std(accuracies)\n",
    "    accdf['min_samples_leaf'][i] = min_samples_leaf\n",
    "    accdf['Accuracy'][i] = mean_acc\n",
    "    accdf['std'][i] = std\n",
    "accdf\n",
    "    "
   ]
  },
  {
   "cell_type": "code",
   "execution_count": 10,
   "metadata": {},
   "outputs": [
    {
     "name": "stdout",
     "output_type": "stream",
     "text": [
      "RandomForest----n_estimators---\n"
     ]
    },
    {
     "data": {
      "text/html": [
       "<div>\n",
       "<style scoped>\n",
       "    .dataframe tbody tr th:only-of-type {\n",
       "        vertical-align: middle;\n",
       "    }\n",
       "\n",
       "    .dataframe tbody tr th {\n",
       "        vertical-align: top;\n",
       "    }\n",
       "\n",
       "    .dataframe thead th {\n",
       "        text-align: right;\n",
       "    }\n",
       "</style>\n",
       "<table border=\"1\" class=\"dataframe\">\n",
       "  <thead>\n",
       "    <tr style=\"text-align: right;\">\n",
       "      <th></th>\n",
       "      <th>n_estimators</th>\n",
       "      <th>Accuracy</th>\n",
       "      <th>std</th>\n",
       "    </tr>\n",
       "  </thead>\n",
       "  <tbody>\n",
       "    <tr>\n",
       "      <th>1</th>\n",
       "      <td>100.0</td>\n",
       "      <td>0.864532</td>\n",
       "      <td>0.025607</td>\n",
       "    </tr>\n",
       "    <tr>\n",
       "      <th>2</th>\n",
       "      <td>200.0</td>\n",
       "      <td>0.882211</td>\n",
       "      <td>0.022646</td>\n",
       "    </tr>\n",
       "    <tr>\n",
       "      <th>3</th>\n",
       "      <td>300.0</td>\n",
       "      <td>0.877756</td>\n",
       "      <td>0.021136</td>\n",
       "    </tr>\n",
       "  </tbody>\n",
       "</table>\n",
       "</div>"
      ],
      "text/plain": [
       "   n_estimators  Accuracy       std\n",
       "1         100.0  0.864532  0.025607\n",
       "2         200.0  0.882211  0.022646\n",
       "3         300.0  0.877756  0.021136"
      ]
     },
     "execution_count": 10,
     "metadata": {},
     "output_type": "execute_result"
    }
   ],
   "source": [
    "print('RandomForest----n_estimators---')\n",
    "accdf = pd.DataFrame(np.random.randn(3, 3), index=['1', '2', '3'],columns=['n_estimators', 'Accuracy','std'])\n",
    "for i,n_estimators  in zip([0,1,2],[100,200,300]):\n",
    "#     print('==================n_estimators : %d ================' %(n_estimators))\n",
    "    RFC = RandomForestClassifier(n_estimators = n_estimators )\n",
    "\n",
    "    Y = y\n",
    "    kf = KFold(n_splits=5, shuffle=True, random_state=42)\n",
    "    accuracies = []\n",
    "    for train, test in kf.split(X):\n",
    "        RFC.fit(X[train], Y[train])\n",
    "        pred = RFC.predict(X[test])\n",
    "        accuracies.append(accuracy_score(Y[test], pred))\n",
    "#         print(classification_report(Y[test], pred))\n",
    "#     print('accuracy over all cross-validation folds: %s' % str(accuracies))\n",
    "    mean_acc = np.mean(accuracies)\n",
    "    std = np.std(accuracies)\n",
    "#     print('mean=%.2f std=%.2f' % (mean_acc, std))\n",
    "    accdf['n_estimators'][i] = n_estimators\n",
    "    accdf['Accuracy'][i] = mean_acc\n",
    "    accdf['std'][i] = std\n",
    "accdf"
   ]
  },
  {
   "cell_type": "code",
   "execution_count": null,
   "metadata": {},
   "outputs": [],
   "source": []
  }
 ],
 "metadata": {
  "kernelspec": {
   "display_name": "Python 3",
   "language": "python",
   "name": "python3"
  },
  "language_info": {
   "codemirror_mode": {
    "name": "ipython",
    "version": 3
   },
   "file_extension": ".py",
   "mimetype": "text/x-python",
   "name": "python",
   "nbconvert_exporter": "python",
   "pygments_lexer": "ipython3",
   "version": "3.7.0"
  }
 },
 "nbformat": 4,
 "nbformat_minor": 2
}
