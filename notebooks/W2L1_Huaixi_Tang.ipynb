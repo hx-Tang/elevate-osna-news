{
 "cells": [
  {
   "cell_type": "markdown",
   "metadata": {},
   "source": [
    "In this lab, we will\n",
    "- read our project data into a Pandas DataFrame\n",
    "- write a function to compute simple features for each row of the data frame\n",
    "- fit a LogisticRegression model to the data\n",
    "- print the top coefficients\n",
    "- compute measures of accuracy\n",
    "\n",
    "I've given you starter code below. You should:\n",
    "- First, try to get it to work with your data. It may require changing the load_data file to match the requirements of your data (e.g., what is the object you are classifying -- a tweet, a user, a news article?)\n",
    "- Second, you should add additional features to the make_features function:\n",
    "  - Be creative. It could be additional word features, or other meta data about the user, date, etc.\n",
    "- As you try out different feature combinations, print out the coefficients and accuracy scores\n",
    "- List any features that seem to improve accuracy. Why do you think that is?"
   ]
  },
  {
   "cell_type": "code",
   "execution_count": 36,
   "metadata": {},
   "outputs": [],
   "source": [
    "from collections import Counter\n",
    "import numpy as np\n",
    "import pandas as pd\n",
    "import re\n",
    "from sklearn.linear_model import LogisticRegression\n",
    "from sklearn.feature_extraction import DictVectorizer"
   ]
  },
  {
   "cell_type": "code",
   "execution_count": 69,
   "metadata": {},
   "outputs": [
    {
     "data": {
      "text/html": [
       "<div>\n",
       "<style scoped>\n",
       "    .dataframe tbody tr th:only-of-type {\n",
       "        vertical-align: middle;\n",
       "    }\n",
       "\n",
       "    .dataframe tbody tr th {\n",
       "        vertical-align: top;\n",
       "    }\n",
       "\n",
       "    .dataframe thead th {\n",
       "        text-align: right;\n",
       "    }\n",
       "</style>\n",
       "<table border=\"1\" class=\"dataframe\">\n",
       "  <thead>\n",
       "    <tr style=\"text-align: right;\">\n",
       "      <th></th>\n",
       "      <th>site</th>\n",
       "      <th>id</th>\n",
       "      <th>label</th>\n",
       "      <th>text</th>\n",
       "    </tr>\n",
       "  </thead>\n",
       "  <tbody>\n",
       "    <tr>\n",
       "      <th>0</th>\n",
       "      <td>twitter</td>\n",
       "      <td>920307162278236160</td>\n",
       "      <td>-2.0</td>\n",
       "      <td>rt @allisonpohle : o-h-i-no ! this story wasn'...</td>\n",
       "    </tr>\n",
       "    <tr>\n",
       "      <th>1</th>\n",
       "      <td>twitter</td>\n",
       "      <td>920464477388029952</td>\n",
       "      <td>-2.0</td>\n",
       "      <td>rt @theellenshow : tomorrow , the first people...</td>\n",
       "    </tr>\n",
       "    <tr>\n",
       "      <th>2</th>\n",
       "      <td>twitter</td>\n",
       "      <td>918272604410122240</td>\n",
       "      <td>-2.0</td>\n",
       "      <td>rt @lauraloomer : investigative journalist lau...</td>\n",
       "    </tr>\n",
       "    <tr>\n",
       "      <th>3</th>\n",
       "      <td>twitter</td>\n",
       "      <td>918689132137791488</td>\n",
       "      <td>-2.0</td>\n",
       "      <td>rt @lauraloomer : #jesuscampos be miss ? laura...</td>\n",
       "    </tr>\n",
       "    <tr>\n",
       "      <th>4</th>\n",
       "      <td>twitter</td>\n",
       "      <td>913244272643653632</td>\n",
       "      <td>-2.0</td>\n",
       "      <td>rt @tacticalpoet84 : urlref\\nfollow-up from my...</td>\n",
       "    </tr>\n",
       "  </tbody>\n",
       "</table>\n",
       "</div>"
      ],
      "text/plain": [
       "      site                  id  label  \\\n",
       "0  twitter  920307162278236160   -2.0   \n",
       "1  twitter  920464477388029952   -2.0   \n",
       "2  twitter  918272604410122240   -2.0   \n",
       "3  twitter  918689132137791488   -2.0   \n",
       "4  twitter  913244272643653632   -2.0   \n",
       "\n",
       "                                                text  \n",
       "0  rt @allisonpohle : o-h-i-no ! this story wasn'...  \n",
       "1  rt @theellenshow : tomorrow , the first people...  \n",
       "2  rt @lauraloomer : investigative journalist lau...  \n",
       "3  rt @lauraloomer : #jesuscampos be miss ? laura...  \n",
       "4  rt @tacticalpoet84 : urlref\\nfollow-up from my...  "
      ]
     },
     "execution_count": 69,
     "metadata": {},
     "output_type": "execute_result"
    }
   ],
   "source": [
    "def load_data(datafile, checkfile):\n",
    "    \"\"\"\n",
    "    Read your data into a single pandas dataframe where\n",
    "    - each row is an instance to be classified\n",
    "    \n",
    "    (this could be a tweet, user, or news article, depending on your project)\n",
    "    - there is a column called `label` which stores the class label (e.g., the true\n",
    "      category for this row)\n",
    "    \"\"\"\n",
    "    df = pd.read_csv(datafile)[['social_id','comment_tokens']]\n",
    "    ck = pd.read_csv(checkfile)\n",
    "    \n",
    "    ck = ck.loc[ck['site'] == 'twitter', ['site', 'social_id', 'ruling_val']]\n",
    "    \n",
    "    \n",
    "    ck['social_id'] = ck['social_id'].astype(df['social_id'].dtype)\n",
    "    \n",
    "    df.columns = ['id', 'text']\n",
    "    df = df.drop_duplicates(['id','text'])\n",
    "    ck.columns = ['site','id','label']\n",
    "#     ck['label'] = [i.lower() for i in ck.label]\n",
    "    df = pd.merge(ck,df,on=['id'],how = 'inner')\n",
    "    return df\n",
    "\n",
    "df = load_data('..\\\\..\\\\training_data\\\\twitter.csv', '..\\\\..\\\\training_data\\\\factchecks.csv')\n",
    "df.head()"
   ]
  },
  {
   "cell_type": "code",
   "execution_count": 70,
   "metadata": {},
   "outputs": [
    {
     "data": {
      "text/plain": [
       "-2.0    650\n",
       " 0.0    201\n",
       "-1.0    176\n",
       " 2.0    141\n",
       " 1.0     89\n",
       "Name: label, dtype: int64"
      ]
     },
     "execution_count": 70,
     "metadata": {},
     "output_type": "execute_result"
    }
   ],
   "source": [
    "# what is the distribution over class labels?\n",
    "df.label.value_counts()"
   ]
  },
  {
   "cell_type": "code",
   "execution_count": 71,
   "metadata": {},
   "outputs": [
    {
     "data": {
      "text/plain": [
       "['rt',\n",
       " 'the',\n",
       " 'urlref',\n",
       " 'be',\n",
       " 'to',\n",
       " 'a',\n",
       " 'in',\n",
       " 'of',\n",
       " 's',\n",
       " 'and',\n",
       " 'i',\n",
       " 'it',\n",
       " 'on',\n",
       " 'for',\n",
       " 'mention_realdonaldtrump',\n",
       " 'this',\n",
       " 'that',\n",
       " 't',\n",
       " 'have',\n",
       " 'we',\n",
       " 'trump',\n",
       " 'wa',\n",
       " 'with',\n",
       " 'you',\n",
       " 'at',\n",
       " 'not',\n",
       " 'he',\n",
       " 'do',\n",
       " 'ha',\n",
       " 'no',\n",
       " 'my',\n",
       " 'u',\n",
       " 'from',\n",
       " 'by',\n",
       " 'say',\n",
       " 'they',\n",
       " 'our',\n",
       " 'if',\n",
       " 'more',\n",
       " 'people',\n",
       " 'about',\n",
       " 'an',\n",
       " 'his',\n",
       " 'will',\n",
       " 'but',\n",
       " 'just',\n",
       " 'what',\n",
       " 'would',\n",
       " 'get',\n",
       " 'obama',\n",
       " 'go',\n",
       " 'all',\n",
       " 'out',\n",
       " 'take',\n",
       " 'one',\n",
       " 'up',\n",
       " 'me',\n",
       " 'make',\n",
       " 'than',\n",
       " 'should',\n",
       " 'now',\n",
       " 'so',\n",
       " 'president',\n",
       " 'think',\n",
       " 'who',\n",
       " 'your',\n",
       " 'or',\n",
       " 'today',\n",
       " 'can',\n",
       " 'there']"
      ]
     },
     "execution_count": 71,
     "metadata": {},
     "output_type": "execute_result"
    }
   ],
   "source": [
    "def tweet_tokenizer(s):\n",
    "    s = re.sub(r'#(\\S+)', r'HASHTAG_\\1', s)\n",
    "    s = re.sub(r'@(\\S+)', r'MENTION_\\1', s)\n",
    "    s = re.sub(r'http\\S+', 'THIS_IS_A_URL', s)\n",
    "    return re.sub('\\W+', ' ', s.lower()).split()\n",
    "\n",
    "def counters(d):\n",
    "    counts = Counter()  # handy object: dict from object -> int\n",
    "    counts.update(d)\n",
    "    return counts\n",
    "\n",
    "tokens = [token for tweet in df['text'] for token in tweet_tokenizer(tweet)]\n",
    "counts = counters(tokens)\n",
    "words_to_track = [i[0] for i in counts.most_common(70)]\n",
    "words_to_track"
   ]
  },
  {
   "cell_type": "code",
   "execution_count": 72,
   "metadata": {},
   "outputs": [],
   "source": [
    "def make_features(df):\n",
    "    vec = DictVectorizer()\n",
    "    feature_dicts = []\n",
    "    # just as an initial example, we will consider three\n",
    "    # word features in the model.\n",
    "    words_to_track = ['think', 'today', 'should']\n",
    "    for i, row in df.iterrows():\n",
    "        features = {}\n",
    "        token_counts = Counter(re.sub('\\W+', ' ', row['text'].lower()).split())\n",
    "        for w in words_to_track:\n",
    "            features[w] = token_counts[w]\n",
    "        feature_dicts.append(features)\n",
    "    X = vec.fit_transform(feature_dicts)\n",
    "    return X, vec\n",
    "                \n",
    "X, vec = make_features(df)"
   ]
  },
  {
   "cell_type": "code",
   "execution_count": 73,
   "metadata": {},
   "outputs": [
    {
     "data": {
      "text/plain": [
       "(1257, 3)"
      ]
     },
     "execution_count": 73,
     "metadata": {},
     "output_type": "execute_result"
    }
   ],
   "source": [
    "# what are dimensions of the feature matrix?\n",
    "X.shape"
   ]
  },
  {
   "cell_type": "code",
   "execution_count": 74,
   "metadata": {},
   "outputs": [
    {
     "data": {
      "text/plain": [
       "{'should': 0, 'think': 1, 'today': 2}"
      ]
     },
     "execution_count": 74,
     "metadata": {},
     "output_type": "execute_result"
    }
   ],
   "source": [
    "# what are the feature names?\n",
    "# vocabulary_ is a dict from feature name to column index\n",
    "vec.vocabulary_"
   ]
  },
  {
   "cell_type": "code",
   "execution_count": 75,
   "metadata": {},
   "outputs": [
    {
     "name": "stdout",
     "output_type": "stream",
     "text": [
      "               think\t43\n",
      "               today\t41\n",
      "              should\t44\n"
     ]
    }
   ],
   "source": [
    "# how often does each word occur?\n",
    "for word, idx in vec.vocabulary_.items():\n",
    "    print('%20s\\t%d' % (word, X[:,idx].sum()))"
   ]
  },
  {
   "cell_type": "code",
   "execution_count": 76,
   "metadata": {},
   "outputs": [
    {
     "data": {
      "text/plain": [
       "['should', 'think', 'today']"
      ]
     },
     "execution_count": 76,
     "metadata": {},
     "output_type": "execute_result"
    }
   ],
   "source": [
    "# can also get a simple list of feature names:\n",
    "vec.get_feature_names()\n",
    "# e.g., first column is 'hate', second is 'love', etc."
   ]
  },
  {
   "cell_type": "code",
   "execution_count": 77,
   "metadata": {},
   "outputs": [
    {
     "data": {
      "text/plain": [
       "Counter({-2.0: 650, -1.0: 176, 0.0: 201, 1.0: 89, 2.0: 141})"
      ]
     },
     "execution_count": 77,
     "metadata": {},
     "output_type": "execute_result"
    }
   ],
   "source": [
    "# we'll first store the classes separately in a numpy array\n",
    "y = np.array(df.label)\n",
    "Counter(y)"
   ]
  },
  {
   "cell_type": "code",
   "execution_count": 79,
   "metadata": {},
   "outputs": [
    {
     "data": {
      "text/plain": [
       "array([ 826,  827,  828,  829,  830,  831,  832,  833,  834,  835,  836,\n",
       "        837,  838,  839,  840,  841,  842,  843,  844,  845,  846,  847,\n",
       "        848,  849,  850,  851,  852,  853,  854,  855,  856,  857,  858,\n",
       "        859,  860,  861,  862,  863,  864,  865,  866,  867,  868,  869,\n",
       "        870,  871,  872,  873,  874,  875,  876,  877,  878,  879,  880,\n",
       "        881,  882,  884,  885,  886,  887,  888,  889,  890,  891,  892,\n",
       "        893,  894,  895,  896,  897,  898,  899,  900,  901,  902,  903,\n",
       "        904,  905,  906,  907,  908,  909,  910,  911,  912,  913,  914,\n",
       "        915,  916,  917,  918,  919,  920,  921,  922,  923,  924,  925,\n",
       "        926,  927,  928,  929,  930,  931,  932,  933,  934,  935,  936,\n",
       "        937,  938,  939,  940,  941,  942,  943,  944,  945,  946,  947,\n",
       "        948,  949,  950,  951,  952,  953,  954,  955,  956,  957,  958,\n",
       "        959,  960,  961,  962,  963,  964,  965,  966,  967,  968,  969,\n",
       "        970,  971,  972,  973,  974,  975,  976,  977,  978,  979,  980,\n",
       "        981,  982,  983,  984,  985,  986,  987,  988,  989,  990,  991,\n",
       "        992,  993,  994,  995,  996,  997,  998,  999, 1000, 1001, 1002,\n",
       "       1003, 1004, 1005, 1006, 1007, 1008, 1009, 1010, 1011, 1012, 1013,\n",
       "       1014, 1015, 1016, 1017, 1018, 1019, 1020, 1021, 1022, 1023, 1024,\n",
       "       1025, 1026, 1027], dtype=int64)"
      ]
     },
     "execution_count": 79,
     "metadata": {},
     "output_type": "execute_result"
    }
   ],
   "source": [
    "# to find the row indices with hostile label\n",
    "np.where(y==0.0)[0]"
   ]
  },
  {
   "cell_type": "code",
   "execution_count": 80,
   "metadata": {},
   "outputs": [],
   "source": [
    "# store the class names\n",
    "class_names = set(df.label)"
   ]
  },
  {
   "cell_type": "code",
   "execution_count": 81,
   "metadata": {},
   "outputs": [
    {
     "name": "stdout",
     "output_type": "stream",
     "text": [
      "               think\t                 0.0\t6\n",
      "               think\t                 1.0\t0\n",
      "               think\t                 2.0\t7\n",
      "               think\t                -1.0\t8\n",
      "               think\t                -2.0\t22\n",
      "               today\t                 0.0\t4\n",
      "               today\t                 1.0\t2\n",
      "               today\t                 2.0\t1\n",
      "               today\t                -1.0\t8\n",
      "               today\t                -2.0\t26\n",
      "              should\t                 0.0\t7\n",
      "              should\t                 1.0\t3\n",
      "              should\t                 2.0\t6\n",
      "              should\t                -1.0\t8\n",
      "              should\t                -2.0\t20\n"
     ]
    }
   ],
   "source": [
    "# how often does each word appear in each class?\n",
    "for word, idx in vec.vocabulary_.items():\n",
    "    for class_name in class_names:\n",
    "        class_idx = np.where(y==class_name)[0]\n",
    "        print('%20s\\t%20s\\t%d' % (word, class_name, X[class_idx, idx].sum()))"
   ]
  },
  {
   "cell_type": "markdown",
   "metadata": {},
   "source": [
    "So, `you` appears more frequently in positive (hostile) class, and `love` appears more frequently in the negative (non-hostile) class."
   ]
  },
  {
   "cell_type": "code",
   "execution_count": 83,
   "metadata": {},
   "outputs": [
    {
     "data": {
      "text/plain": [
       "LogisticRegression(C=1.0, class_weight=None, dual=False, fit_intercept=True,\n",
       "          intercept_scaling=1, max_iter=100, multi_class='multinomial',\n",
       "          n_jobs=1, penalty='l2', random_state=None, solver='lbfgs',\n",
       "          tol=0.0001, verbose=0, warm_start=False)"
      ]
     },
     "execution_count": 83,
     "metadata": {},
     "output_type": "execute_result"
    }
   ],
   "source": [
    "# fit a LogisticRegression classifier.\n",
    "clf = LogisticRegression(solver='lbfgs', multi_class='multinomial')\n",
    "clf.fit(X, y)"
   ]
  },
  {
   "cell_type": "code",
   "execution_count": 84,
   "metadata": {},
   "outputs": [
    {
     "data": {
      "text/plain": [
       "array([[-0.16441574,  0.13729807,  0.45481963],\n",
       "       [ 0.19063046,  0.38394791,  0.54849697],\n",
       "       [-0.05914492,  0.01068498, -0.19520814],\n",
       "       [-0.0681355 , -0.97844635, -0.08179174],\n",
       "       [ 0.1010657 ,  0.4465154 , -0.72631671]])"
      ]
     },
     "execution_count": 84,
     "metadata": {},
     "output_type": "execute_result"
    }
   ],
   "source": [
    "# for binary classification, LogisticRegression stores a single coefficient vector\n",
    "clf.coef_\n",
    "# this would be a matrix for a multi-class probem."
   ]
  },
  {
   "cell_type": "code",
   "execution_count": 88,
   "metadata": {},
   "outputs": [
    {
     "name": "stdout",
     "output_type": "stream",
     "text": [
      "[[-0.16441574  0.13729807  0.45481963]\n",
      " [ 0.19063046  0.38394791  0.54849697]\n",
      " [-0.05914492  0.01068498 -0.19520814]\n",
      " [-0.0681355  -0.97844635 -0.08179174]\n",
      " [ 0.1010657   0.4465154  -0.72631671]]\n"
     ]
    }
   ],
   "source": [
    "# for binary classification, the coefficients for the negative class is just the negative of the positive class.\n",
    "coef = clf.coef_\n",
    "print(coef)"
   ]
  },
  {
   "cell_type": "code",
   "execution_count": 89,
   "metadata": {},
   "outputs": [
    {
     "name": "stdout",
     "output_type": "stream",
     "text": [
      "coefficients for -2.0\n"
     ]
    },
    {
     "data": {
      "text/html": [
       "<div>\n",
       "<style scoped>\n",
       "    .dataframe tbody tr th:only-of-type {\n",
       "        vertical-align: middle;\n",
       "    }\n",
       "\n",
       "    .dataframe tbody tr th {\n",
       "        vertical-align: top;\n",
       "    }\n",
       "\n",
       "    .dataframe thead th {\n",
       "        text-align: right;\n",
       "    }\n",
       "</style>\n",
       "<table border=\"1\" class=\"dataframe\">\n",
       "  <thead>\n",
       "    <tr style=\"text-align: right;\">\n",
       "      <th></th>\n",
       "      <th>should</th>\n",
       "      <th>think</th>\n",
       "      <th>today</th>\n",
       "    </tr>\n",
       "  </thead>\n",
       "  <tbody>\n",
       "    <tr>\n",
       "      <th>0</th>\n",
       "      <td>-0.164416</td>\n",
       "      <td>0.137298</td>\n",
       "      <td>0.45482</td>\n",
       "    </tr>\n",
       "  </tbody>\n",
       "</table>\n",
       "</div>"
      ],
      "text/plain": [
       "     should     think    today\n",
       "0 -0.164416  0.137298  0.45482"
      ]
     },
     "metadata": {},
     "output_type": "display_data"
    },
    {
     "name": "stdout",
     "output_type": "stream",
     "text": [
      "coefficients for -1.0\n"
     ]
    },
    {
     "data": {
      "text/html": [
       "<div>\n",
       "<style scoped>\n",
       "    .dataframe tbody tr th:only-of-type {\n",
       "        vertical-align: middle;\n",
       "    }\n",
       "\n",
       "    .dataframe tbody tr th {\n",
       "        vertical-align: top;\n",
       "    }\n",
       "\n",
       "    .dataframe thead th {\n",
       "        text-align: right;\n",
       "    }\n",
       "</style>\n",
       "<table border=\"1\" class=\"dataframe\">\n",
       "  <thead>\n",
       "    <tr style=\"text-align: right;\">\n",
       "      <th></th>\n",
       "      <th>should</th>\n",
       "      <th>think</th>\n",
       "      <th>today</th>\n",
       "    </tr>\n",
       "  </thead>\n",
       "  <tbody>\n",
       "    <tr>\n",
       "      <th>0</th>\n",
       "      <td>0.19063</td>\n",
       "      <td>0.383948</td>\n",
       "      <td>0.548497</td>\n",
       "    </tr>\n",
       "  </tbody>\n",
       "</table>\n",
       "</div>"
      ],
      "text/plain": [
       "    should     think     today\n",
       "0  0.19063  0.383948  0.548497"
      ]
     },
     "metadata": {},
     "output_type": "display_data"
    },
    {
     "name": "stdout",
     "output_type": "stream",
     "text": [
      "coefficients for 0.0\n"
     ]
    },
    {
     "data": {
      "text/html": [
       "<div>\n",
       "<style scoped>\n",
       "    .dataframe tbody tr th:only-of-type {\n",
       "        vertical-align: middle;\n",
       "    }\n",
       "\n",
       "    .dataframe tbody tr th {\n",
       "        vertical-align: top;\n",
       "    }\n",
       "\n",
       "    .dataframe thead th {\n",
       "        text-align: right;\n",
       "    }\n",
       "</style>\n",
       "<table border=\"1\" class=\"dataframe\">\n",
       "  <thead>\n",
       "    <tr style=\"text-align: right;\">\n",
       "      <th></th>\n",
       "      <th>should</th>\n",
       "      <th>think</th>\n",
       "      <th>today</th>\n",
       "    </tr>\n",
       "  </thead>\n",
       "  <tbody>\n",
       "    <tr>\n",
       "      <th>0</th>\n",
       "      <td>-0.059145</td>\n",
       "      <td>0.010685</td>\n",
       "      <td>-0.195208</td>\n",
       "    </tr>\n",
       "  </tbody>\n",
       "</table>\n",
       "</div>"
      ],
      "text/plain": [
       "     should     think     today\n",
       "0 -0.059145  0.010685 -0.195208"
      ]
     },
     "metadata": {},
     "output_type": "display_data"
    },
    {
     "name": "stdout",
     "output_type": "stream",
     "text": [
      "coefficients for 1.0\n"
     ]
    },
    {
     "data": {
      "text/html": [
       "<div>\n",
       "<style scoped>\n",
       "    .dataframe tbody tr th:only-of-type {\n",
       "        vertical-align: middle;\n",
       "    }\n",
       "\n",
       "    .dataframe tbody tr th {\n",
       "        vertical-align: top;\n",
       "    }\n",
       "\n",
       "    .dataframe thead th {\n",
       "        text-align: right;\n",
       "    }\n",
       "</style>\n",
       "<table border=\"1\" class=\"dataframe\">\n",
       "  <thead>\n",
       "    <tr style=\"text-align: right;\">\n",
       "      <th></th>\n",
       "      <th>should</th>\n",
       "      <th>think</th>\n",
       "      <th>today</th>\n",
       "    </tr>\n",
       "  </thead>\n",
       "  <tbody>\n",
       "    <tr>\n",
       "      <th>0</th>\n",
       "      <td>-0.068136</td>\n",
       "      <td>-0.978446</td>\n",
       "      <td>-0.081792</td>\n",
       "    </tr>\n",
       "  </tbody>\n",
       "</table>\n",
       "</div>"
      ],
      "text/plain": [
       "     should     think     today\n",
       "0 -0.068136 -0.978446 -0.081792"
      ]
     },
     "metadata": {},
     "output_type": "display_data"
    },
    {
     "name": "stdout",
     "output_type": "stream",
     "text": [
      "coefficients for 2.0\n"
     ]
    },
    {
     "data": {
      "text/html": [
       "<div>\n",
       "<style scoped>\n",
       "    .dataframe tbody tr th:only-of-type {\n",
       "        vertical-align: middle;\n",
       "    }\n",
       "\n",
       "    .dataframe tbody tr th {\n",
       "        vertical-align: top;\n",
       "    }\n",
       "\n",
       "    .dataframe thead th {\n",
       "        text-align: right;\n",
       "    }\n",
       "</style>\n",
       "<table border=\"1\" class=\"dataframe\">\n",
       "  <thead>\n",
       "    <tr style=\"text-align: right;\">\n",
       "      <th></th>\n",
       "      <th>should</th>\n",
       "      <th>think</th>\n",
       "      <th>today</th>\n",
       "    </tr>\n",
       "  </thead>\n",
       "  <tbody>\n",
       "    <tr>\n",
       "      <th>0</th>\n",
       "      <td>0.101066</td>\n",
       "      <td>0.446515</td>\n",
       "      <td>-0.726317</td>\n",
       "    </tr>\n",
       "  </tbody>\n",
       "</table>\n",
       "</div>"
      ],
      "text/plain": [
       "     should     think     today\n",
       "0  0.101066  0.446515 -0.726317"
      ]
     },
     "metadata": {},
     "output_type": "display_data"
    }
   ],
   "source": [
    "for ci, class_name in enumerate(clf.classes_):\n",
    "    print('coefficients for %s' % class_name)\n",
    "    display(pd.DataFrame([coef[ci]], columns=vec.get_feature_names()))"
   ]
  }
 ],
 "metadata": {
  "kernelspec": {
   "display_name": "Python 3",
   "language": "python",
   "name": "python3"
  },
  "language_info": {
   "codemirror_mode": {
    "name": "ipython",
    "version": 3
   },
   "file_extension": ".py",
   "mimetype": "text/x-python",
   "name": "python",
   "nbconvert_exporter": "python",
   "pygments_lexer": "ipython3",
   "version": "3.6.4"
  }
 },
 "nbformat": 4,
 "nbformat_minor": 2
}
