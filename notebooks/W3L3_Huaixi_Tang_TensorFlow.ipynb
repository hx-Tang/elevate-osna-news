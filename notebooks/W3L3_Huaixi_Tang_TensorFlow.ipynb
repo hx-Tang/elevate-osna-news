{
 "cells": [
  {
   "cell_type": "code",
   "execution_count": 139,
   "metadata": {},
   "outputs": [],
   "source": [
    "import tensorflow as tf\n",
    "from tensorflow import keras"
   ]
  },
  {
   "cell_type": "code",
   "execution_count": 1,
   "metadata": {},
   "outputs": [],
   "source": [
    "import glob\n",
    "import json\n",
    "import pandas as pd\n",
    "import os\n",
    "import gzip\n",
    "import re\n",
    "from nltk.stem import WordNetLemmatizer\n",
    "from nltk import pos_tag\n",
    "from nltk.corpus import stopwords\n",
    "\n",
    "import numpy as np\n",
    "import pandas as pd\n",
    "from sklearn.feature_extraction import DictVectorizer\n",
    "from sklearn.feature_extraction.text import CountVectorizer, TfidfVectorizer\n",
    "\n",
    "from sklearn.neural_network import MLPClassifier\n",
    "from sklearn.ensemble import RandomForestClassifier\n",
    "#Calculate accuracy"
   ]
  },
  {
   "cell_type": "code",
   "execution_count": 2,
   "metadata": {},
   "outputs": [],
   "source": [
    "def read_data(directory):\n",
    "    dfs = []\n",
    "    for label in ['real', 'fake']:\n",
    "        for file in glob.glob(directory + os.path.sep + label + os.path.sep + '*gz'):\n",
    "            print('reading %s' % file)\n",
    "            df = pd.DataFrame((json.loads(line) for line in gzip.open(file)))\n",
    "            df['label'] = label\n",
    "            dfs.append(df)\n",
    "    df=pd.concat(dfs)[['publish_date', 'source', 'text', 'title', 'tweets', 'label']]\n",
    "    list_text = [i for i in list(df.text) if i != '']\n",
    "    return df[df.text.isin(list_text)]"
   ]
  },
  {
   "cell_type": "code",
   "execution_count": 3,
   "metadata": {},
   "outputs": [
    {
     "name": "stdout",
     "output_type": "stream",
     "text": [
      "reading D:\\python\\training_data_2\\real\\real.json.gz\n",
      "reading D:\\python\\training_data_2\\fake\\fake.json.gz\n"
     ]
    }
   ],
   "source": [
    "directory = r'D:\\python\\training_data_2'\n",
    "df = read_data(directory)"
   ]
  },
  {
   "cell_type": "code",
   "execution_count": 9,
   "metadata": {},
   "outputs": [],
   "source": [
    "import glob\n",
    "import os\n",
    "import json\n",
    "import gzip\n",
    "from collections import Counter\n",
    "import numpy as np\n",
    "import pandas as pd\n",
    "from tqdm import tqdm\n",
    "import re\n",
    "from sklearn.linear_model import LogisticRegression\n",
    "from sklearn.feature_extraction import DictVectorizer\n",
    "from sklearn.feature_extraction.text import CountVectorizer, TfidfVectorizer\n",
    "from sklearn.metrics import classification_report\n",
    "from scipy.sparse import csr_matrix, hstack\n",
    "import pickle\n",
    "\n",
    "from osna.get_wordlist import get_desc\n",
    "from sklearn.metrics.pairwise import cosine_similarity\n",
    "def make_features(df):\n",
    "    ## Add your code to create features.\n",
    "    features: np.matrix\n",
    "    avg_ret = []\n",
    "    avg_fav = []\n",
    "    var_desc = []\n",
    "    var_time = []\n",
    "    vec = TfidfVectorizer(min_df=1, ngram_range=(1, 1))\n",
    "    print('Extracting features...')\n",
    "    for j in tqdm(range(len(df)), ncols=100):\n",
    "        tweets = df.tweets.values[j]\n",
    "        retweet = []\n",
    "        favorite = []\n",
    "        time = []\n",
    "        list_desc = []\n",
    "        if len(tweets) > 1:\n",
    "            for i in range(len(tweets)):\n",
    "                retweet.append(tweets[i]['retweet_count'])\n",
    "                favorite.append(tweets[i]['favorite_count'])\n",
    "                time.append(tweets[i]['created_at'][4:19] + tweets[i]['created_at'][-5:])\n",
    "                if 'description' in list(tweets[i]['user'].keys()):\n",
    "                    description = get_desc(tweets[i]['user']['description'])\n",
    "                    list_desc.append(description)\n",
    "            avg_ret.append(sum(retweet) / len(tweets))\n",
    "            avg_fav.append(sum(favorite) / len(tweets))\n",
    "            time_sums = [v for k, v in Counter(time).items()]\n",
    "            var_time.append(np.var(time_sums))\n",
    "            if len(list_desc) > 1:\n",
    "                X = vec.fit_transform(list_desc)\n",
    "                sim = cosine_similarity(X)\n",
    "                var_desc.append(np.var(sim))\n",
    "            else:\n",
    "                var_desc.append(0.0)\n",
    "        elif len(tweets) == 1:\n",
    "            avg_ret.append(sum(retweet))\n",
    "            avg_fav.append(sum(favorite))\n",
    "            var_time.append(0.0)\n",
    "            var_desc.append(0.0)\n",
    "        else:\n",
    "            avg_ret.append(0.0)\n",
    "            avg_fav.append(0.0)\n",
    "            var_time.append(0.0)\n",
    "            var_desc.append(0.0)\n",
    "\n",
    "    df['avg_retweet'] = avg_ret\n",
    "    df['avg_favorite'] = avg_fav\n",
    "    df['var_time'] = var_time\n",
    "    df['var_desc'] = var_desc\n",
    "\n",
    "    return df"
   ]
  },
  {
   "cell_type": "code",
   "execution_count": 10,
   "metadata": {},
   "outputs": [
    {
     "name": "stdout",
     "output_type": "stream",
     "text": [
      "Extracting features...\n"
     ]
    },
    {
     "name": "stderr",
     "output_type": "stream",
     "text": [
      "100%|█████████████████████████████████████████████████████████████| 679/679 [25:30<00:00,  2.25s/it]\n"
     ]
    }
   ],
   "source": [
    "df = make_features(df)"
   ]
  },
  {
   "cell_type": "code",
   "execution_count": 11,
   "metadata": {},
   "outputs": [],
   "source": [
    "import re\n",
    "import numpy as np\n",
    "from nltk.stem import WordNetLemmatizer\n",
    "from nltk import pos_tag\n",
    "from nltk.corpus import stopwords\n",
    "from nltk.tokenize import TweetTokenizer\n",
    "\n",
    "def tokennizer(s):\n",
    "    s = re.sub(r'http\\S+', '', s)\n",
    "    s = re.sub(r'[0-9_\\s]+', '', s)\n",
    "    s = re.sub(r\"[^'\\w]+\", '', s)\n",
    "\n",
    "    s = re.compile(r\"(?<=[a-zA-Z])'re\").sub(' are', s)\n",
    "    s = re.compile(r\"(?<=[a-zA-Z])'m\").sub(' am', s)\n",
    "    s = re.compile(r\"(?<=[a-zA-Z])'ve\").sub(' have', s)\n",
    "    s = re.compile(r\"(it|he|she|that|this|there|here|what|where|when|who|why|which)('s)\").sub(r\"\\1 is\", s)\n",
    "    s = re.sub(r\"'s\", \"\", s)\n",
    "    s = re.sub(r\"can't\", 'can not', s)\n",
    "    s = re.compile(r\"(?<=[a-zA-Z])n't\").sub(' not', s)\n",
    "    s = re.compile(r\"(?<=[a-zA-Z])'ll\").sub(' will', s)\n",
    "    s = re.compile(r\"(?<=[a-zA-Z])'d\").sub(' would', s)\n",
    "    return s\n",
    "\n",
    "\n",
    "def lemmatize(l):\n",
    "    wnl = WordNetLemmatizer()\n",
    "    for word, tag in pos_tag(l):\n",
    "        if tag.startswith('NN'):\n",
    "            yield wnl.lemmatize(word, pos='n')\n",
    "        elif tag.startswith('VB'):\n",
    "            yield wnl.lemmatize(word, pos='v')\n",
    "        elif tag.startswith('JJ'):\n",
    "            yield wnl.lemmatize(word, pos='a')\n",
    "        elif tag.startswith('R'):\n",
    "            yield wnl.lemmatize(word, pos='r')\n",
    "        else:\n",
    "            yield word\n",
    "\n",
    "\n",
    "def tokennizer_desc(tknzr,sen):\n",
    "    list1=[]\n",
    "    for s in tknzr.tokenize(sen.lower()):\n",
    "        s=re.compile(r\"(?<=[a-zA-Z])'re\").sub(' are',s)\n",
    "        s=re.compile(r\"(?<=[a-zA-Z])'m\").sub(' am',s)\n",
    "        s=re.compile(r\"(?<=[a-zA-Z])'ve\").sub(' have',s)\n",
    "        s=re.compile(r\"(it|he|she|that|this|there|here|what|where|when|who|why|which)('s)\").sub(r\"\\1 is\",s)\n",
    "        s=re.sub(r\"'s\",\"\",s)\n",
    "        s=re.sub(r\"can't\",'can not',s)\n",
    "        s=re.compile(r\"(?<=[a-zA-Z])n't\").sub(' not',s)\n",
    "        s=re.compile(r\"(?<=[a-zA-Z])'ll\").sub(' will',s)\n",
    "        s=re.compile(r\"(?<=[a-zA-Z])'d\").sub(' would',s)\n",
    "        list1.append(s)\n",
    "    return(' '.join(list1))\n",
    "\n",
    "\n",
    "def get_text(list):\n",
    "    stopword=set(stopwords.words('english'))\n",
    "    list_new=[]\n",
    "    for l in list:\n",
    "        l=re.sub(r\"[^\\w']\",' ',l).lower()\n",
    "        l1=[tokennizer(w) for w in l.split() if len(tokennizer(w))>2]\n",
    "        l=' '.join(l1)\n",
    "        l1=[tokennizer(w) for w in l.split() if len(tokennizer(w))>2 and tokennizer(w) not in stopword]\n",
    "        l=' '.join(lemmatize(l1))\n",
    "        list_new.append(l)\n",
    "    return list_new\n",
    "\n",
    "def get_source(list):\n",
    "    list_new = []\n",
    "    for l in list:\n",
    "        l = re.sub(r\"http[s]?://\", '', l).lower()\n",
    "        l1 = [w for w in l.split('.') if w != 'www']\n",
    "        l = ' '.join(l1)\n",
    "        list_new.append(l)\n",
    "    return list_new\n",
    "\n",
    "def get_desc(sentence):\n",
    "    tknzr = TweetTokenizer(strip_handles = True,reduce_len=True)\n",
    "    sen=tokennizer_desc(tknzr,sentence)\n",
    "    l1=[w for w in lemmatize((tknzr.tokenize(sen))) if w!='']\n",
    "    return(' '.join(l1))"
   ]
  },
  {
   "cell_type": "code",
   "execution_count": 13,
   "metadata": {},
   "outputs": [
    {
     "name": "stdout",
     "output_type": "stream",
     "text": [
      "(679, 926)\n",
      "(679, 265)\n",
      "(679, 4)\n"
     ]
    }
   ],
   "source": [
    "title = get_text(list(df.title))\n",
    "source = get_source(list(df.source))\n",
    "\n",
    "features = df.loc[:, ['avg_retweet', 'avg_favorite', 'var_time', 'var_desc']]\n",
    "features = features.to_dict('records')\n",
    "\n",
    "vec1 = TfidfVectorizer(min_df=2, max_df=.9, ngram_range=(1, 3), stop_words='english')\n",
    "vec2 = TfidfVectorizer(min_df=2, max_df=.9, ngram_range=(1, 3), stop_words='english')\n",
    "vec3 = CountVectorizer(min_df=1, max_df=.9, ngram_range=(1, 1))\n",
    "vecf = DictVectorizer()\n",
    "\n",
    "x2 = vec2.fit_transform(title)\n",
    "print(x2.shape)\n",
    "x3 = vec3.fit_transform(source)\n",
    "print(x3.shape)\n",
    "xf = vecf.fit_transform(features)\n",
    "print(xf.shape)\n",
    "y = np.array(df.label)\n",
    "\n",
    "X = hstack([x2, x3, xf])\n",
    "\n",
    "for i in range(len(y)):\n",
    "    if y[i] == 'real':\n",
    "        y[i] = 0\n",
    "    else:\n",
    "        y[i] = 1"
   ]
  },
  {
   "cell_type": "code",
   "execution_count": 14,
   "metadata": {},
   "outputs": [],
   "source": [
    "np.set_printoptions(threshold = 10000)"
   ]
  },
  {
   "cell_type": "code",
   "execution_count": 15,
   "metadata": {},
   "outputs": [],
   "source": [
    "X = X.todense()\n",
    "X = np.array(X)"
   ]
  },
  {
   "cell_type": "code",
   "execution_count": 16,
   "metadata": {},
   "outputs": [
    {
     "data": {
      "text/plain": [
       "(679, 1195)"
      ]
     },
     "execution_count": 16,
     "metadata": {},
     "output_type": "execute_result"
    }
   ],
   "source": [
    "X.shape"
   ]
  },
  {
   "cell_type": "code",
   "execution_count": 17,
   "metadata": {},
   "outputs": [
    {
     "ename": "ModuleNotFoundError",
     "evalue": "No module named 'tensorflow.python.keras'",
     "output_type": "error",
     "traceback": [
      "\u001b[1;31m---------------------------------------------------------------------------\u001b[0m",
      "\u001b[1;31mModuleNotFoundError\u001b[0m                       Traceback (most recent call last)",
      "\u001b[1;32m<ipython-input-17-d367e083a6b4>\u001b[0m in \u001b[0;36m<module>\u001b[1;34m()\u001b[0m\n\u001b[1;32m----> 1\u001b[1;33m \u001b[1;32mfrom\u001b[0m \u001b[0mtensorflow\u001b[0m\u001b[1;33m.\u001b[0m\u001b[0mpython\u001b[0m\u001b[1;33m.\u001b[0m\u001b[0mkeras\u001b[0m\u001b[1;33m.\u001b[0m\u001b[0mlayers\u001b[0m \u001b[1;32mimport\u001b[0m \u001b[0mDropout\u001b[0m\u001b[1;33m,\u001b[0m \u001b[0mFlatten\u001b[0m\u001b[1;33m\u001b[0m\u001b[0m\n\u001b[0m\u001b[0;32m      2\u001b[0m \u001b[0mdropout_rate\u001b[0m \u001b[1;33m=\u001b[0m \u001b[1;36m.5\u001b[0m\u001b[1;33m\u001b[0m\u001b[0m\n\u001b[0;32m      3\u001b[0m \u001b[0mmodel\u001b[0m \u001b[1;33m=\u001b[0m \u001b[0mkeras\u001b[0m\u001b[1;33m.\u001b[0m\u001b[0mSequential\u001b[0m\u001b[1;33m(\u001b[0m\u001b[1;33m)\u001b[0m\u001b[1;33m\u001b[0m\u001b[0m\n\u001b[0;32m      4\u001b[0m \u001b[0mmodel\u001b[0m\u001b[1;33m.\u001b[0m\u001b[0madd\u001b[0m\u001b[1;33m(\u001b[0m\u001b[0mkeras\u001b[0m\u001b[1;33m.\u001b[0m\u001b[0mlayers\u001b[0m\u001b[1;33m.\u001b[0m\u001b[0mDense\u001b[0m\u001b[1;33m(\u001b[0m\u001b[1;36m16\u001b[0m\u001b[1;33m,\u001b[0m\u001b[0minput_shape\u001b[0m\u001b[1;33m=\u001b[0m\u001b[1;33m(\u001b[0m\u001b[1;36m9969\u001b[0m\u001b[1;33m,\u001b[0m\u001b[1;33m)\u001b[0m\u001b[1;33m)\u001b[0m\u001b[1;33m)\u001b[0m\u001b[1;33m\u001b[0m\u001b[0m\n\u001b[0;32m      5\u001b[0m \u001b[0mmodel\u001b[0m\u001b[1;33m.\u001b[0m\u001b[0madd\u001b[0m\u001b[1;33m(\u001b[0m\u001b[0mkeras\u001b[0m\u001b[1;33m.\u001b[0m\u001b[0mlayers\u001b[0m\u001b[1;33m.\u001b[0m\u001b[0mDense\u001b[0m\u001b[1;33m(\u001b[0m\u001b[1;36m16\u001b[0m\u001b[1;33m,\u001b[0m \u001b[0mactivation\u001b[0m\u001b[1;33m=\u001b[0m\u001b[1;34m'relu'\u001b[0m\u001b[1;33m)\u001b[0m\u001b[1;33m)\u001b[0m\u001b[1;33m\u001b[0m\u001b[0m\n",
      "\u001b[1;31mModuleNotFoundError\u001b[0m: No module named 'tensorflow.python.keras'"
     ]
    }
   ],
   "source": [
    "from tensorflow.python.keras.layers import Dropout, Flatten\n",
    "dropout_rate = .5\n",
    "model = keras.Sequential()\n",
    "model.add(keras.layers.Dense(16,input_shape=(9969,)))\n",
    "model.add(keras.layers.Dense(16, activation='relu'))\n",
    "model.add(Dropout(rate=dropout_rate))\n",
    "model.add(keras.layers.Dense(1, activation='sigmoid'))\n",
    "model.summary()"
   ]
  },
  {
   "cell_type": "code",
   "execution_count": 157,
   "metadata": {},
   "outputs": [],
   "source": [
    "model.compile(optimizer='adam',\n",
    "              loss='binary_crossentropy',\n",
    "              metrics=['accuracy'])"
   ]
  },
  {
   "cell_type": "code",
   "execution_count": 158,
   "metadata": {},
   "outputs": [],
   "source": [
    "np.random.seed(116)\n",
    "np.random.shuffle(X) \n",
    "np.random.seed(116)\n",
    "np.random.shuffle(y)"
   ]
  },
  {
   "cell_type": "code",
   "execution_count": 159,
   "metadata": {},
   "outputs": [],
   "source": [
    "x_val = X[:300]\n",
    "partial_x_train = X[300:500]\n",
    "\n",
    "y_val = y[:300]\n",
    "partial_y_train = y[300:500]\n",
    "\n",
    "testX = X[500:]\n",
    "testy = y[500:]"
   ]
  },
  {
   "cell_type": "code",
   "execution_count": 160,
   "metadata": {},
   "outputs": [
    {
     "data": {
      "text/plain": [
       "array([0, 1, 0, 1, 0, 1, 0, 0, 1, 1, 0, 1, 1, 0, 0, 0, 1, 0, 1, 0, 0, 0,\n",
       "       0, 1, 0, 1, 1, 1, 1, 1, 0, 0, 0, 1, 1, 0, 0, 1, 1, 0, 1, 0, 0, 0,\n",
       "       1, 0, 0, 0, 1, 0, 1, 0, 0, 0, 1, 1, 0, 0, 1, 1, 1, 1, 0, 0, 1, 1,\n",
       "       1, 1, 1, 1, 0, 1, 1, 1, 1, 0, 1, 0, 1, 1, 1, 0, 1, 0, 1, 0, 0, 0,\n",
       "       0, 1, 1, 1, 1, 1, 0, 0, 1, 0, 0, 1, 0, 1, 0, 0, 0, 0, 0, 0, 0, 1,\n",
       "       1, 0, 1, 0, 1, 1, 0, 1, 1, 0, 0, 0, 1, 1, 1, 0, 0, 1, 0, 1, 0, 0,\n",
       "       1, 0, 0, 1, 0, 1, 0, 1, 0, 1, 1, 0, 1, 1, 1, 0, 1, 1, 0, 0, 0, 1,\n",
       "       0, 0, 0, 1, 1, 0, 0, 1, 1, 1, 1, 0, 1, 0, 1, 1, 0, 0, 1, 0, 1, 0,\n",
       "       1, 0, 1, 0, 0, 0, 1, 0, 1, 1, 0, 1, 0, 0, 0, 1, 0, 1, 1, 1, 1, 0,\n",
       "       0, 1, 0, 0, 1, 1, 1, 1, 1, 0, 1, 0, 1, 1, 0, 1, 1, 0, 1, 1, 1, 1,\n",
       "       0, 1, 1, 0, 1, 0, 1, 0, 0, 1, 1, 1, 0, 0, 1, 0, 1, 1, 0, 1, 0, 0,\n",
       "       0, 1, 1, 1, 0, 0, 0, 0, 0, 1, 1, 0, 0, 0, 1, 1, 0, 1, 0, 1, 1, 1,\n",
       "       1, 1, 1, 1, 1, 1, 0, 1, 0, 0, 0, 1, 1, 0, 0, 0, 1, 0, 0, 1, 1, 0,\n",
       "       1, 1, 1, 0, 1, 0, 1, 0, 1, 0, 1, 0, 0, 1], dtype=object)"
      ]
     },
     "execution_count": 160,
     "metadata": {},
     "output_type": "execute_result"
    }
   ],
   "source": [
    "y_val"
   ]
  },
  {
   "cell_type": "code",
   "execution_count": 161,
   "metadata": {},
   "outputs": [
    {
     "name": "stdout",
     "output_type": "stream",
     "text": [
      "Train on 200 samples, validate on 300 samples\n",
      "Epoch 1/120\n",
      "200/200 [==============================] - 1s 3ms/sample - loss: 0.6926 - acc: 0.5200 - val_loss: 0.6917 - val_acc: 0.5900\n",
      "Epoch 2/120\n",
      "200/200 [==============================] - 0s 364us/sample - loss: 0.6876 - acc: 0.7000 - val_loss: 0.6896 - val_acc: 0.6767\n",
      "Epoch 3/120\n",
      "200/200 [==============================] - 0s 309us/sample - loss: 0.6834 - acc: 0.7550 - val_loss: 0.6874 - val_acc: 0.7133\n",
      "Epoch 4/120\n",
      "200/200 [==============================] - 0s 349us/sample - loss: 0.6776 - acc: 0.8600 - val_loss: 0.6850 - val_acc: 0.7367\n",
      "Epoch 5/120\n",
      "200/200 [==============================] - 0s 304us/sample - loss: 0.6741 - acc: 0.8200 - val_loss: 0.6824 - val_acc: 0.7433\n",
      "Epoch 6/120\n",
      "200/200 [==============================] - 0s 314us/sample - loss: 0.6680 - acc: 0.8700 - val_loss: 0.6797 - val_acc: 0.7500\n",
      "Epoch 7/120\n",
      "200/200 [==============================] - 0s 374us/sample - loss: 0.6663 - acc: 0.8800 - val_loss: 0.6770 - val_acc: 0.7533\n",
      "Epoch 8/120\n",
      "200/200 [==============================] - 0s 369us/sample - loss: 0.6573 - acc: 0.8800 - val_loss: 0.6744 - val_acc: 0.7600\n",
      "Epoch 9/120\n",
      "200/200 [==============================] - 0s 359us/sample - loss: 0.6516 - acc: 0.9200 - val_loss: 0.6717 - val_acc: 0.7733\n",
      "Epoch 10/120\n",
      "200/200 [==============================] - 0s 369us/sample - loss: 0.6475 - acc: 0.9100 - val_loss: 0.6689 - val_acc: 0.7667\n",
      "Epoch 11/120\n",
      "200/200 [==============================] - 0s 324us/sample - loss: 0.6361 - acc: 0.9350 - val_loss: 0.6660 - val_acc: 0.7800\n",
      "Epoch 12/120\n",
      "200/200 [==============================] - 0s 349us/sample - loss: 0.6360 - acc: 0.9550 - val_loss: 0.6631 - val_acc: 0.7733\n",
      "Epoch 13/120\n",
      "200/200 [==============================] - 0s 344us/sample - loss: 0.6257 - acc: 0.9350 - val_loss: 0.6602 - val_acc: 0.7700\n",
      "Epoch 14/120\n",
      "200/200 [==============================] - 0s 334us/sample - loss: 0.6205 - acc: 0.9500 - val_loss: 0.6572 - val_acc: 0.7967\n",
      "Epoch 15/120\n",
      "200/200 [==============================] - 0s 299us/sample - loss: 0.6150 - acc: 0.9550 - val_loss: 0.6542 - val_acc: 0.8067\n",
      "Epoch 16/120\n",
      "200/200 [==============================] - 0s 389us/sample - loss: 0.6048 - acc: 0.9650 - val_loss: 0.6511 - val_acc: 0.8100\n",
      "Epoch 17/120\n",
      "200/200 [==============================] - 0s 384us/sample - loss: 0.5981 - acc: 0.9650 - val_loss: 0.6480 - val_acc: 0.8100\n",
      "Epoch 18/120\n",
      "200/200 [==============================] - 0s 359us/sample - loss: 0.5992 - acc: 0.9350 - val_loss: 0.6448 - val_acc: 0.8100\n",
      "Epoch 19/120\n",
      "200/200 [==============================] - 0s 369us/sample - loss: 0.5929 - acc: 0.9550 - val_loss: 0.6416 - val_acc: 0.8067\n",
      "Epoch 20/120\n",
      "200/200 [==============================] - 0s 339us/sample - loss: 0.5763 - acc: 0.9500 - val_loss: 0.6383 - val_acc: 0.8033\n",
      "Epoch 21/120\n",
      "200/200 [==============================] - 0s 344us/sample - loss: 0.5681 - acc: 0.9700 - val_loss: 0.6350 - val_acc: 0.8033\n",
      "Epoch 22/120\n",
      "200/200 [==============================] - 0s 399us/sample - loss: 0.5541 - acc: 0.9800 - val_loss: 0.6316 - val_acc: 0.8033\n",
      "Epoch 23/120\n",
      "200/200 [==============================] - 0s 434us/sample - loss: 0.5552 - acc: 0.9700 - val_loss: 0.6281 - val_acc: 0.8067\n",
      "Epoch 24/120\n",
      "200/200 [==============================] - 0s 314us/sample - loss: 0.5485 - acc: 0.9800 - val_loss: 0.6246 - val_acc: 0.8067\n",
      "Epoch 25/120\n",
      "200/200 [==============================] - 0s 364us/sample - loss: 0.5389 - acc: 0.9700 - val_loss: 0.6211 - val_acc: 0.8067\n",
      "Epoch 26/120\n",
      "200/200 [==============================] - 0s 389us/sample - loss: 0.5437 - acc: 0.9600 - val_loss: 0.6175 - val_acc: 0.8067\n",
      "Epoch 27/120\n",
      "200/200 [==============================] - 0s 434us/sample - loss: 0.5321 - acc: 0.9800 - val_loss: 0.6138 - val_acc: 0.8067\n",
      "Epoch 28/120\n",
      "200/200 [==============================] - 0s 354us/sample - loss: 0.5205 - acc: 0.9800 - val_loss: 0.6102 - val_acc: 0.8033\n",
      "Epoch 29/120\n",
      "200/200 [==============================] - 0s 404us/sample - loss: 0.5116 - acc: 0.9800 - val_loss: 0.6064 - val_acc: 0.8033\n",
      "Epoch 30/120\n",
      "200/200 [==============================] - 0s 344us/sample - loss: 0.5151 - acc: 0.9650 - val_loss: 0.6027 - val_acc: 0.8033\n",
      "Epoch 31/120\n",
      "200/200 [==============================] - 0s 339us/sample - loss: 0.4931 - acc: 0.9900 - val_loss: 0.5990 - val_acc: 0.8033\n",
      "Epoch 32/120\n",
      "200/200 [==============================] - 0s 324us/sample - loss: 0.4911 - acc: 0.9850 - val_loss: 0.5952 - val_acc: 0.8000\n",
      "Epoch 33/120\n",
      "200/200 [==============================] - 0s 364us/sample - loss: 0.4840 - acc: 0.9750 - val_loss: 0.5914 - val_acc: 0.8000\n",
      "Epoch 34/120\n",
      "200/200 [==============================] - 0s 399us/sample - loss: 0.4831 - acc: 0.9800 - val_loss: 0.5876 - val_acc: 0.8067\n",
      "Epoch 35/120\n",
      "200/200 [==============================] - 0s 404us/sample - loss: 0.4636 - acc: 0.9850 - val_loss: 0.5838 - val_acc: 0.8100\n",
      "Epoch 36/120\n",
      "200/200 [==============================] - 0s 429us/sample - loss: 0.4625 - acc: 0.9750 - val_loss: 0.5799 - val_acc: 0.8100\n",
      "Epoch 37/120\n",
      "200/200 [==============================] - 0s 309us/sample - loss: 0.4477 - acc: 0.9900 - val_loss: 0.5761 - val_acc: 0.8100\n",
      "Epoch 38/120\n",
      "200/200 [==============================] - 0s 354us/sample - loss: 0.4418 - acc: 0.9750 - val_loss: 0.5723 - val_acc: 0.8133\n",
      "Epoch 39/120\n",
      "200/200 [==============================] - 0s 344us/sample - loss: 0.4383 - acc: 0.9850 - val_loss: 0.5685 - val_acc: 0.8133\n",
      "Epoch 40/120\n",
      "200/200 [==============================] - 0s 334us/sample - loss: 0.4165 - acc: 0.9900 - val_loss: 0.5647 - val_acc: 0.8133\n",
      "Epoch 41/120\n",
      "200/200 [==============================] - 0s 524us/sample - loss: 0.4112 - acc: 0.9950 - val_loss: 0.5610 - val_acc: 0.8133\n",
      "Epoch 42/120\n",
      "200/200 [==============================] - 0s 334us/sample - loss: 0.4086 - acc: 0.9850 - val_loss: 0.5572 - val_acc: 0.8133\n",
      "Epoch 43/120\n",
      "200/200 [==============================] - 0s 314us/sample - loss: 0.4124 - acc: 0.9950 - val_loss: 0.5535 - val_acc: 0.8133\n",
      "Epoch 44/120\n",
      "200/200 [==============================] - 0s 389us/sample - loss: 0.4067 - acc: 0.9950 - val_loss: 0.5499 - val_acc: 0.8167\n",
      "Epoch 45/120\n",
      "200/200 [==============================] - 0s 394us/sample - loss: 0.4061 - acc: 0.9900 - val_loss: 0.5463 - val_acc: 0.8133\n",
      "Epoch 46/120\n",
      "200/200 [==============================] - 0s 379us/sample - loss: 0.3781 - acc: 1.0000 - val_loss: 0.5427 - val_acc: 0.8100\n",
      "Epoch 47/120\n",
      "200/200 [==============================] - 0s 369us/sample - loss: 0.3588 - acc: 0.9950 - val_loss: 0.5390 - val_acc: 0.8100\n",
      "Epoch 48/120\n",
      "200/200 [==============================] - 0s 359us/sample - loss: 0.3521 - acc: 0.9900 - val_loss: 0.5353 - val_acc: 0.8067\n",
      "Epoch 49/120\n",
      "200/200 [==============================] - 0s 369us/sample - loss: 0.3730 - acc: 0.9850 - val_loss: 0.5317 - val_acc: 0.8067\n",
      "Epoch 50/120\n",
      "200/200 [==============================] - 0s 349us/sample - loss: 0.3539 - acc: 0.9950 - val_loss: 0.5281 - val_acc: 0.8067\n",
      "Epoch 51/120\n",
      "200/200 [==============================] - 0s 314us/sample - loss: 0.3257 - acc: 0.9850 - val_loss: 0.5245 - val_acc: 0.8133\n",
      "Epoch 52/120\n",
      "200/200 [==============================] - 0s 369us/sample - loss: 0.3365 - acc: 0.9850 - val_loss: 0.5209 - val_acc: 0.8133\n",
      "Epoch 53/120\n",
      "200/200 [==============================] - 0s 374us/sample - loss: 0.3169 - acc: 0.9950 - val_loss: 0.5173 - val_acc: 0.8133\n",
      "Epoch 54/120\n",
      "200/200 [==============================] - 0s 324us/sample - loss: 0.3152 - acc: 0.9850 - val_loss: 0.5137 - val_acc: 0.8133\n",
      "Epoch 55/120\n",
      "200/200 [==============================] - 0s 394us/sample - loss: 0.3016 - acc: 1.0000 - val_loss: 0.5101 - val_acc: 0.8133\n",
      "Epoch 56/120\n",
      "200/200 [==============================] - 0s 309us/sample - loss: 0.3164 - acc: 0.9900 - val_loss: 0.5065 - val_acc: 0.8133\n",
      "Epoch 57/120\n",
      "200/200 [==============================] - 0s 349us/sample - loss: 0.2882 - acc: 0.9950 - val_loss: 0.5031 - val_acc: 0.8133\n",
      "Epoch 58/120\n",
      "200/200 [==============================] - 0s 369us/sample - loss: 0.2862 - acc: 0.9900 - val_loss: 0.4996 - val_acc: 0.8133\n",
      "Epoch 59/120\n",
      "200/200 [==============================] - 0s 409us/sample - loss: 0.2896 - acc: 1.0000 - val_loss: 0.4962 - val_acc: 0.8133\n",
      "Epoch 60/120\n",
      "200/200 [==============================] - 0s 294us/sample - loss: 0.2882 - acc: 0.9950 - val_loss: 0.4929 - val_acc: 0.8133\n"
     ]
    },
    {
     "name": "stdout",
     "output_type": "stream",
     "text": [
      "Epoch 61/120\n",
      "200/200 [==============================] - 0s 329us/sample - loss: 0.2788 - acc: 0.9900 - val_loss: 0.4898 - val_acc: 0.8133\n",
      "Epoch 62/120\n",
      "200/200 [==============================] - 0s 319us/sample - loss: 0.2585 - acc: 1.0000 - val_loss: 0.4867 - val_acc: 0.8133\n",
      "Epoch 63/120\n",
      "200/200 [==============================] - 0s 309us/sample - loss: 0.2497 - acc: 0.9950 - val_loss: 0.4837 - val_acc: 0.8133\n",
      "Epoch 64/120\n",
      "200/200 [==============================] - 0s 369us/sample - loss: 0.2627 - acc: 0.9900 - val_loss: 0.4808 - val_acc: 0.8133\n",
      "Epoch 65/120\n",
      "200/200 [==============================] - 0s 339us/sample - loss: 0.2485 - acc: 0.9950 - val_loss: 0.4780 - val_acc: 0.8133\n",
      "Epoch 66/120\n",
      "200/200 [==============================] - 0s 304us/sample - loss: 0.2423 - acc: 1.0000 - val_loss: 0.4753 - val_acc: 0.8100\n",
      "Epoch 67/120\n",
      "200/200 [==============================] - 0s 349us/sample - loss: 0.2263 - acc: 1.0000 - val_loss: 0.4725 - val_acc: 0.8133\n",
      "Epoch 68/120\n",
      "200/200 [==============================] - 0s 369us/sample - loss: 0.2229 - acc: 1.0000 - val_loss: 0.4697 - val_acc: 0.8133\n",
      "Epoch 69/120\n",
      "200/200 [==============================] - 0s 379us/sample - loss: 0.2384 - acc: 1.0000 - val_loss: 0.4669 - val_acc: 0.8167\n",
      "Epoch 70/120\n",
      "200/200 [==============================] - 0s 324us/sample - loss: 0.2029 - acc: 0.9950 - val_loss: 0.4642 - val_acc: 0.8167\n",
      "Epoch 71/120\n",
      "200/200 [==============================] - 0s 414us/sample - loss: 0.1880 - acc: 0.9950 - val_loss: 0.4614 - val_acc: 0.8200\n",
      "Epoch 72/120\n",
      "200/200 [==============================] - 0s 414us/sample - loss: 0.2250 - acc: 1.0000 - val_loss: 0.4587 - val_acc: 0.8200\n",
      "Epoch 73/120\n",
      "200/200 [==============================] - 0s 349us/sample - loss: 0.1886 - acc: 1.0000 - val_loss: 0.4562 - val_acc: 0.8200\n",
      "Epoch 74/120\n",
      "200/200 [==============================] - 0s 389us/sample - loss: 0.1886 - acc: 1.0000 - val_loss: 0.4539 - val_acc: 0.8200\n",
      "Epoch 75/120\n",
      "200/200 [==============================] - 0s 399us/sample - loss: 0.2037 - acc: 0.9900 - val_loss: 0.4518 - val_acc: 0.8200\n",
      "Epoch 76/120\n",
      "200/200 [==============================] - 0s 374us/sample - loss: 0.1785 - acc: 1.0000 - val_loss: 0.4497 - val_acc: 0.8200\n",
      "Epoch 77/120\n",
      "200/200 [==============================] - 0s 339us/sample - loss: 0.1676 - acc: 1.0000 - val_loss: 0.4476 - val_acc: 0.8200\n",
      "Epoch 78/120\n",
      "200/200 [==============================] - 0s 354us/sample - loss: 0.1875 - acc: 0.9950 - val_loss: 0.4456 - val_acc: 0.8200\n",
      "Epoch 79/120\n",
      "200/200 [==============================] - 0s 364us/sample - loss: 0.1859 - acc: 0.9950 - val_loss: 0.4438 - val_acc: 0.8200\n",
      "Epoch 80/120\n",
      "200/200 [==============================] - 0s 319us/sample - loss: 0.1722 - acc: 1.0000 - val_loss: 0.4420 - val_acc: 0.8200\n",
      "Epoch 81/120\n",
      "200/200 [==============================] - 0s 329us/sample - loss: 0.1511 - acc: 1.0000 - val_loss: 0.4403 - val_acc: 0.8167\n",
      "Epoch 82/120\n",
      "200/200 [==============================] - 0s 329us/sample - loss: 0.1713 - acc: 1.0000 - val_loss: 0.4386 - val_acc: 0.8133\n",
      "Epoch 83/120\n",
      "200/200 [==============================] - 0s 284us/sample - loss: 0.1551 - acc: 1.0000 - val_loss: 0.4369 - val_acc: 0.8133\n",
      "Epoch 84/120\n",
      "200/200 [==============================] - 0s 284us/sample - loss: 0.1558 - acc: 1.0000 - val_loss: 0.4352 - val_acc: 0.8133\n",
      "Epoch 85/120\n",
      "200/200 [==============================] - 0s 299us/sample - loss: 0.1506 - acc: 1.0000 - val_loss: 0.4332 - val_acc: 0.8133\n",
      "Epoch 86/120\n",
      "200/200 [==============================] - 0s 299us/sample - loss: 0.1451 - acc: 1.0000 - val_loss: 0.4313 - val_acc: 0.8133\n",
      "Epoch 87/120\n",
      "200/200 [==============================] - 0s 349us/sample - loss: 0.1336 - acc: 1.0000 - val_loss: 0.4297 - val_acc: 0.8200\n",
      "Epoch 88/120\n",
      "200/200 [==============================] - 0s 299us/sample - loss: 0.1407 - acc: 1.0000 - val_loss: 0.4281 - val_acc: 0.8200\n",
      "Epoch 89/120\n",
      "200/200 [==============================] - 0s 369us/sample - loss: 0.1343 - acc: 0.9950 - val_loss: 0.4266 - val_acc: 0.8200\n",
      "Epoch 90/120\n",
      "200/200 [==============================] - 0s 309us/sample - loss: 0.1336 - acc: 1.0000 - val_loss: 0.4249 - val_acc: 0.8200\n",
      "Epoch 91/120\n",
      "200/200 [==============================] - 0s 299us/sample - loss: 0.1201 - acc: 1.0000 - val_loss: 0.4235 - val_acc: 0.8200\n",
      "Epoch 92/120\n",
      "200/200 [==============================] - 0s 369us/sample - loss: 0.1292 - acc: 1.0000 - val_loss: 0.4219 - val_acc: 0.8200\n",
      "Epoch 93/120\n",
      "200/200 [==============================] - 0s 329us/sample - loss: 0.1254 - acc: 1.0000 - val_loss: 0.4204 - val_acc: 0.8200\n",
      "Epoch 94/120\n",
      "200/200 [==============================] - 0s 314us/sample - loss: 0.1222 - acc: 1.0000 - val_loss: 0.4189 - val_acc: 0.8200\n",
      "Epoch 95/120\n",
      "200/200 [==============================] - 0s 329us/sample - loss: 0.1169 - acc: 1.0000 - val_loss: 0.4172 - val_acc: 0.8200\n",
      "Epoch 96/120\n",
      "200/200 [==============================] - 0s 324us/sample - loss: 0.1101 - acc: 0.9950 - val_loss: 0.4157 - val_acc: 0.8200\n",
      "Epoch 97/120\n",
      "200/200 [==============================] - 0s 324us/sample - loss: 0.1245 - acc: 1.0000 - val_loss: 0.4141 - val_acc: 0.8200\n",
      "Epoch 98/120\n",
      "200/200 [==============================] - 0s 299us/sample - loss: 0.1099 - acc: 1.0000 - val_loss: 0.4125 - val_acc: 0.8167\n",
      "Epoch 99/120\n",
      "200/200 [==============================] - 0s 319us/sample - loss: 0.1126 - acc: 1.0000 - val_loss: 0.4114 - val_acc: 0.8167\n",
      "Epoch 100/120\n",
      "200/200 [==============================] - 0s 289us/sample - loss: 0.0976 - acc: 1.0000 - val_loss: 0.4103 - val_acc: 0.8167\n",
      "Epoch 101/120\n",
      "200/200 [==============================] - 0s 314us/sample - loss: 0.1114 - acc: 0.9900 - val_loss: 0.4093 - val_acc: 0.8167\n",
      "Epoch 102/120\n",
      "200/200 [==============================] - 0s 324us/sample - loss: 0.1092 - acc: 1.0000 - val_loss: 0.4084 - val_acc: 0.8167\n",
      "Epoch 103/120\n",
      "200/200 [==============================] - 0s 279us/sample - loss: 0.1041 - acc: 0.9950 - val_loss: 0.4076 - val_acc: 0.8167\n",
      "Epoch 104/120\n",
      "200/200 [==============================] - 0s 339us/sample - loss: 0.0839 - acc: 1.0000 - val_loss: 0.4068 - val_acc: 0.8167\n",
      "Epoch 105/120\n",
      "200/200 [==============================] - 0s 294us/sample - loss: 0.0972 - acc: 0.9950 - val_loss: 0.4061 - val_acc: 0.8167\n",
      "Epoch 106/120\n",
      "200/200 [==============================] - 0s 284us/sample - loss: 0.1031 - acc: 0.9900 - val_loss: 0.4053 - val_acc: 0.8167\n",
      "Epoch 107/120\n",
      "200/200 [==============================] - 0s 324us/sample - loss: 0.0905 - acc: 0.9950 - val_loss: 0.4046 - val_acc: 0.8167\n",
      "Epoch 108/120\n",
      "200/200 [==============================] - 0s 329us/sample - loss: 0.1000 - acc: 1.0000 - val_loss: 0.4039 - val_acc: 0.8167\n",
      "Epoch 109/120\n",
      "200/200 [==============================] - 0s 429us/sample - loss: 0.0818 - acc: 1.0000 - val_loss: 0.4033 - val_acc: 0.8200\n",
      "Epoch 110/120\n",
      "200/200 [==============================] - 0s 454us/sample - loss: 0.0780 - acc: 1.0000 - val_loss: 0.4026 - val_acc: 0.8233\n",
      "Epoch 111/120\n",
      "200/200 [==============================] - 0s 499us/sample - loss: 0.0794 - acc: 0.9950 - val_loss: 0.4021 - val_acc: 0.8233\n",
      "Epoch 112/120\n",
      "200/200 [==============================] - 0s 464us/sample - loss: 0.0705 - acc: 1.0000 - val_loss: 0.4016 - val_acc: 0.8233\n",
      "Epoch 113/120\n",
      "200/200 [==============================] - 0s 484us/sample - loss: 0.0840 - acc: 1.0000 - val_loss: 0.4011 - val_acc: 0.8233\n",
      "Epoch 114/120\n",
      "200/200 [==============================] - 0s 329us/sample - loss: 0.0804 - acc: 1.0000 - val_loss: 0.4007 - val_acc: 0.8233\n",
      "Epoch 115/120\n",
      "200/200 [==============================] - 0s 419us/sample - loss: 0.0825 - acc: 1.0000 - val_loss: 0.4004 - val_acc: 0.8233\n",
      "Epoch 116/120\n",
      "200/200 [==============================] - 0s 573us/sample - loss: 0.0751 - acc: 1.0000 - val_loss: 0.4002 - val_acc: 0.8233\n",
      "Epoch 117/120\n",
      "200/200 [==============================] - 0s 499us/sample - loss: 0.0697 - acc: 1.0000 - val_loss: 0.4001 - val_acc: 0.8233\n",
      "Epoch 118/120\n",
      "200/200 [==============================] - 0s 389us/sample - loss: 0.0656 - acc: 1.0000 - val_loss: 0.4000 - val_acc: 0.8233\n",
      "Epoch 119/120\n",
      "200/200 [==============================] - 0s 279us/sample - loss: 0.0820 - acc: 1.0000 - val_loss: 0.3995 - val_acc: 0.8233\n",
      "Epoch 120/120\n",
      "200/200 [==============================] - 0s 294us/sample - loss: 0.0664 - acc: 1.0000 - val_loss: 0.3991 - val_acc: 0.8233\n"
     ]
    }
   ],
   "source": [
    "history = model.fit(partial_x_train,\n",
    "                    partial_y_train,\n",
    "                    epochs=40,\n",
    "                    batch_size=512,\n",
    "                    validation_data=(x_val, y_val),\n",
    "                    verbose=1)"
   ]
  },
  {
   "cell_type": "code",
   "execution_count": 162,
   "metadata": {},
   "outputs": [
    {
     "name": "stdout",
     "output_type": "stream",
     "text": [
      "179/179 [==============================] - 0s 228us/sample - loss: 0.4313 - acc: 0.7933\n",
      "[0.4313347506123548, 0.7932961]\n"
     ]
    }
   ],
   "source": [
    "results = model.evaluate(testX, testy)\n",
    "\n",
    "print(results)"
   ]
  },
  {
   "cell_type": "code",
   "execution_count": 163,
   "metadata": {},
   "outputs": [
    {
     "data": {
      "text/plain": [
       "dict_keys(['loss', 'acc', 'val_loss', 'val_acc'])"
      ]
     },
     "execution_count": 163,
     "metadata": {},
     "output_type": "execute_result"
    }
   ],
   "source": [
    "history_dict = history.history\n",
    "history_dict.keys()"
   ]
  },
  {
   "cell_type": "code",
   "execution_count": 164,
   "metadata": {},
   "outputs": [
    {
     "data": {
      "image/png": "[encoded data removed]",
      "text/plain": [
       "<Figure size 432x288 with 1 Axes>"
      ]
     },
     "metadata": {
      "needs_background": "light"
     },
     "output_type": "display_data"
    }
   ],
   "source": [
    "import matplotlib.pyplot as plt\n",
    "\n",
    "acc = history_dict['acc']\n",
    "val_acc = history_dict['val_acc']\n",
    "loss = history_dict['loss']\n",
    "val_loss = history_dict['val_loss']\n",
    "\n",
    "epochs = range(1, len(acc) + 1)\n",
    "\n",
    "# \"bo\" is for \"blue dot\"\n",
    "plt.plot(epochs, loss, 'bo', label='Training loss')\n",
    "# b is for \"solid blue line\"\n",
    "plt.plot(epochs, val_loss, 'b', label='Validation loss')\n",
    "plt.title('Training and validation loss')\n",
    "plt.xlabel('Epochs')\n",
    "plt.ylabel('Loss')\n",
    "plt.legend()\n",
    "\n",
    "plt.show()"
   ]
  },
  {
   "cell_type": "code",
   "execution_count": 165,
   "metadata": {},
   "outputs": [
    {
     "data": {
      "image/png": "[encoded data removed]",
      "text/plain": [
       "<Figure size 432x288 with 1 Axes>"
      ]
     },
     "metadata": {
      "needs_background": "light"
     },
     "output_type": "display_data"
    }
   ],
   "source": [
    "plt.clf()   # clear figure\n",
    "\n",
    "plt.plot(epochs, acc, 'bo', label='Training acc')\n",
    "plt.plot(epochs, val_acc, 'b', label='Validation acc')\n",
    "plt.title('Training and validation accuracy')\n",
    "plt.xlabel('Epochs')\n",
    "plt.ylabel('Accuracy')\n",
    "plt.legend()\n",
    "\n",
    "plt.show()"
   ]
  }
 ],
 "metadata": {
  "kernelspec": {
   "display_name": "Python 3",
   "language": "python",
   "name": "python3"
  },
  "language_info": {
   "codemirror_mode": {
    "name": "ipython",
    "version": 3
   },
   "file_extension": ".py",
   "mimetype": "text/x-python",
   "name": "python",
   "nbconvert_exporter": "python",
   "pygments_lexer": "ipython3",
   "version": "3.6.4"
  }
 },
 "nbformat": 4,
 "nbformat_minor": 2
}
